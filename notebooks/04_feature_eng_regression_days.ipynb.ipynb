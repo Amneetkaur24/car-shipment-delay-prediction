{
  "nbformat": 4,
  "nbformat_minor": 0,
  "metadata": {
    "colab": {
      "provenance": []
    },
    "kernelspec": {
      "name": "python3",
      "display_name": "Python 3"
    },
    "language_info": {
      "name": "python"
    }
  },
  "cells": [
    {
      "cell_type": "markdown",
      "source": [
        "# Feature Engineering for Car Shipment Delay Days Prediction"
      ],
      "metadata": {
        "id": "hZOoFPfBNQX7"
      }
    },
    {
      "cell_type": "markdown",
      "source": [
        "# Step 1: Import Required Libraries\n"
      ],
      "metadata": {
        "id": "1Lz3pJdoW-Qs"
      }
    },
    {
      "cell_type": "code",
      "execution_count": null,
      "metadata": {
        "id": "i7WnEtrUM7Rg"
      },
      "outputs": [],
      "source": [
        "# Step 1: Import Required Libraries\n",
        "# We are using pandas for data manipulation and NumPy for numerical operations.\n",
        "import pandas as pd\n",
        "import numpy as np\n",
        "from datetime import timedelta"
      ]
    },
    {
      "cell_type": "markdown",
      "source": [
        "#  Step 2: Load Dataset"
      ],
      "metadata": {
        "id": "c28gNl9xXCVh"
      }
    },
    {
      "cell_type": "code",
      "source": [
        "# Step 2: Load Cleaned Dataset\n",
        "df = pd.read_csv(\"Cleaned_car_automated_dataset_final.csv\")\n",
        "df.head()"
      ],
      "metadata": {
        "colab": {
          "base_uri": "https://localhost:8080/",
          "height": 255
        },
        "id": "KDDcug7TNjXd",
        "outputId": "936389bc-f1de-4502-e6a7-7746e0856da9"
      },
      "execution_count": null,
      "outputs": [
        {
          "output_type": "execute_result",
          "data": {
            "text/plain": [
              "    Car_ID Scheduled_Assembly_Date Engine_Delivery_Date  \\\n",
              "0  CAR_942              2023-01-31           2023-01-24   \n",
              "1  CAR_546              2023-01-31           2023-01-22   \n",
              "2  CAR_465              2023-01-31           2023-01-29   \n",
              "3  CAR_807              2023-01-31           2023-02-05   \n",
              "4  CAR_286              2023-01-31           2023-01-28   \n",
              "\n",
              "  Engine_Supplier_Region Engine_Transport_Mode  Is_Critical_Engine  \\\n",
              "0                   EAST                  ROAD                   1   \n",
              "1                  NORTH                   SEA                   1   \n",
              "2                   WEST                   AIR                   0   \n",
              "3                   EAST                  ROAD                   0   \n",
              "4                  SOUTH                   AIR                   0   \n",
              "\n",
              "  Transmission_Delivery_Date Transmission_Supplier_Region  \\\n",
              "0                 2023-01-30                        NORTH   \n",
              "1                 2023-01-24                         EAST   \n",
              "2                 2023-01-28                         EAST   \n",
              "3                 2023-02-03                         EAST   \n",
              "4                 2023-01-31                        SOUTH   \n",
              "\n",
              "  Transmission_Transport_Mode  Is_Critical_Transmission  ...  \\\n",
              "0                        ROAD                         0  ...   \n",
              "1                         AIR                         1  ...   \n",
              "2                         AIR                         1  ...   \n",
              "3                        ROAD                         1  ...   \n",
              "4                         AIR                         0  ...   \n",
              "\n",
              "  Transmission_Supplier_Group Brake_System_Supplier_Group  \\\n",
              "0                  NORTH_ROAD                   SOUTH_SEA   \n",
              "1                    EAST_AIR                    EAST_SEA   \n",
              "2                    EAST_AIR                    EAST_AIR   \n",
              "3                   EAST_ROAD                   NORTH_SEA   \n",
              "4                   SOUTH_SEA                   NORTH_AIR   \n",
              "\n",
              "  Suspension_Supplier_Group  Infotainment_Supplier_Group  \\\n",
              "0                  EAST_SEA                   NORTH_ROAD   \n",
              "1                 NORTH_AIR                     WEST_SEA   \n",
              "2                 WEST_ROAD                     EAST_AIR   \n",
              "3                  WEST_AIR                   NORTH_ROAD   \n",
              "4                SOUTH_ROAD                     WEST_SEA   \n",
              "\n",
              "  Engine_Reliability_Score Transmission_Reliability_Score  \\\n",
              "0                 0.302632                       0.329114   \n",
              "1                 0.289474                       0.328571   \n",
              "2                 0.346154                       0.328571   \n",
              "3                 0.302632                       0.279070   \n",
              "4                 0.270270                       0.300000   \n",
              "\n",
              "  Brake_System_Reliability_Score  Suspension_Reliability_Score  \\\n",
              "0                       0.282609                      0.239130   \n",
              "1                       0.260274                      0.311688   \n",
              "2                       0.383562                      0.356322   \n",
              "3                       0.273810                      0.321839   \n",
              "4                       0.260274                      0.224490   \n",
              "\n",
              "  Infotainment_Reliability_Score Traffic_Severity_Index  \n",
              "0                       0.310345                    1.0  \n",
              "1                       0.400000                    1.0  \n",
              "2                       0.298851                    1.0  \n",
              "3                       0.310345                    1.5  \n",
              "4                       0.400000                    1.0  \n",
              "\n",
              "[5 rows x 60 columns]"
            ],
            "text/html": [
              "\n",
              "  <div id=\"df-3d202117-50ef-4957-b21f-1479ac69e930\" class=\"colab-df-container\">\n",
              "    <div>\n",
              "<style scoped>\n",
              "    .dataframe tbody tr th:only-of-type {\n",
              "        vertical-align: middle;\n",
              "    }\n",
              "\n",
              "    .dataframe tbody tr th {\n",
              "        vertical-align: top;\n",
              "    }\n",
              "\n",
              "    .dataframe thead th {\n",
              "        text-align: right;\n",
              "    }\n",
              "</style>\n",
              "<table border=\"1\" class=\"dataframe\">\n",
              "  <thead>\n",
              "    <tr style=\"text-align: right;\">\n",
              "      <th></th>\n",
              "      <th>Car_ID</th>\n",
              "      <th>Scheduled_Assembly_Date</th>\n",
              "      <th>Engine_Delivery_Date</th>\n",
              "      <th>Engine_Supplier_Region</th>\n",
              "      <th>Engine_Transport_Mode</th>\n",
              "      <th>Is_Critical_Engine</th>\n",
              "      <th>Transmission_Delivery_Date</th>\n",
              "      <th>Transmission_Supplier_Region</th>\n",
              "      <th>Transmission_Transport_Mode</th>\n",
              "      <th>Is_Critical_Transmission</th>\n",
              "      <th>...</th>\n",
              "      <th>Transmission_Supplier_Group</th>\n",
              "      <th>Brake_System_Supplier_Group</th>\n",
              "      <th>Suspension_Supplier_Group</th>\n",
              "      <th>Infotainment_Supplier_Group</th>\n",
              "      <th>Engine_Reliability_Score</th>\n",
              "      <th>Transmission_Reliability_Score</th>\n",
              "      <th>Brake_System_Reliability_Score</th>\n",
              "      <th>Suspension_Reliability_Score</th>\n",
              "      <th>Infotainment_Reliability_Score</th>\n",
              "      <th>Traffic_Severity_Index</th>\n",
              "    </tr>\n",
              "  </thead>\n",
              "  <tbody>\n",
              "    <tr>\n",
              "      <th>0</th>\n",
              "      <td>CAR_942</td>\n",
              "      <td>2023-01-31</td>\n",
              "      <td>2023-01-24</td>\n",
              "      <td>EAST</td>\n",
              "      <td>ROAD</td>\n",
              "      <td>1</td>\n",
              "      <td>2023-01-30</td>\n",
              "      <td>NORTH</td>\n",
              "      <td>ROAD</td>\n",
              "      <td>0</td>\n",
              "      <td>...</td>\n",
              "      <td>NORTH_ROAD</td>\n",
              "      <td>SOUTH_SEA</td>\n",
              "      <td>EAST_SEA</td>\n",
              "      <td>NORTH_ROAD</td>\n",
              "      <td>0.302632</td>\n",
              "      <td>0.329114</td>\n",
              "      <td>0.282609</td>\n",
              "      <td>0.239130</td>\n",
              "      <td>0.310345</td>\n",
              "      <td>1.0</td>\n",
              "    </tr>\n",
              "    <tr>\n",
              "      <th>1</th>\n",
              "      <td>CAR_546</td>\n",
              "      <td>2023-01-31</td>\n",
              "      <td>2023-01-22</td>\n",
              "      <td>NORTH</td>\n",
              "      <td>SEA</td>\n",
              "      <td>1</td>\n",
              "      <td>2023-01-24</td>\n",
              "      <td>EAST</td>\n",
              "      <td>AIR</td>\n",
              "      <td>1</td>\n",
              "      <td>...</td>\n",
              "      <td>EAST_AIR</td>\n",
              "      <td>EAST_SEA</td>\n",
              "      <td>NORTH_AIR</td>\n",
              "      <td>WEST_SEA</td>\n",
              "      <td>0.289474</td>\n",
              "      <td>0.328571</td>\n",
              "      <td>0.260274</td>\n",
              "      <td>0.311688</td>\n",
              "      <td>0.400000</td>\n",
              "      <td>1.0</td>\n",
              "    </tr>\n",
              "    <tr>\n",
              "      <th>2</th>\n",
              "      <td>CAR_465</td>\n",
              "      <td>2023-01-31</td>\n",
              "      <td>2023-01-29</td>\n",
              "      <td>WEST</td>\n",
              "      <td>AIR</td>\n",
              "      <td>0</td>\n",
              "      <td>2023-01-28</td>\n",
              "      <td>EAST</td>\n",
              "      <td>AIR</td>\n",
              "      <td>1</td>\n",
              "      <td>...</td>\n",
              "      <td>EAST_AIR</td>\n",
              "      <td>EAST_AIR</td>\n",
              "      <td>WEST_ROAD</td>\n",
              "      <td>EAST_AIR</td>\n",
              "      <td>0.346154</td>\n",
              "      <td>0.328571</td>\n",
              "      <td>0.383562</td>\n",
              "      <td>0.356322</td>\n",
              "      <td>0.298851</td>\n",
              "      <td>1.0</td>\n",
              "    </tr>\n",
              "    <tr>\n",
              "      <th>3</th>\n",
              "      <td>CAR_807</td>\n",
              "      <td>2023-01-31</td>\n",
              "      <td>2023-02-05</td>\n",
              "      <td>EAST</td>\n",
              "      <td>ROAD</td>\n",
              "      <td>0</td>\n",
              "      <td>2023-02-03</td>\n",
              "      <td>EAST</td>\n",
              "      <td>ROAD</td>\n",
              "      <td>1</td>\n",
              "      <td>...</td>\n",
              "      <td>EAST_ROAD</td>\n",
              "      <td>NORTH_SEA</td>\n",
              "      <td>WEST_AIR</td>\n",
              "      <td>NORTH_ROAD</td>\n",
              "      <td>0.302632</td>\n",
              "      <td>0.279070</td>\n",
              "      <td>0.273810</td>\n",
              "      <td>0.321839</td>\n",
              "      <td>0.310345</td>\n",
              "      <td>1.5</td>\n",
              "    </tr>\n",
              "    <tr>\n",
              "      <th>4</th>\n",
              "      <td>CAR_286</td>\n",
              "      <td>2023-01-31</td>\n",
              "      <td>2023-01-28</td>\n",
              "      <td>SOUTH</td>\n",
              "      <td>AIR</td>\n",
              "      <td>0</td>\n",
              "      <td>2023-01-31</td>\n",
              "      <td>SOUTH</td>\n",
              "      <td>AIR</td>\n",
              "      <td>0</td>\n",
              "      <td>...</td>\n",
              "      <td>SOUTH_SEA</td>\n",
              "      <td>NORTH_AIR</td>\n",
              "      <td>SOUTH_ROAD</td>\n",
              "      <td>WEST_SEA</td>\n",
              "      <td>0.270270</td>\n",
              "      <td>0.300000</td>\n",
              "      <td>0.260274</td>\n",
              "      <td>0.224490</td>\n",
              "      <td>0.400000</td>\n",
              "      <td>1.0</td>\n",
              "    </tr>\n",
              "  </tbody>\n",
              "</table>\n",
              "<p>5 rows × 60 columns</p>\n",
              "</div>\n",
              "    <div class=\"colab-df-buttons\">\n",
              "\n",
              "  <div class=\"colab-df-container\">\n",
              "    <button class=\"colab-df-convert\" onclick=\"convertToInteractive('df-3d202117-50ef-4957-b21f-1479ac69e930')\"\n",
              "            title=\"Convert this dataframe to an interactive table.\"\n",
              "            style=\"display:none;\">\n",
              "\n",
              "  <svg xmlns=\"http://www.w3.org/2000/svg\" height=\"24px\" viewBox=\"0 -960 960 960\">\n",
              "    <path d=\"M120-120v-720h720v720H120Zm60-500h600v-160H180v160Zm220 220h160v-160H400v160Zm0 220h160v-160H400v160ZM180-400h160v-160H180v160Zm440 0h160v-160H620v160ZM180-180h160v-160H180v160Zm440 0h160v-160H620v160Z\"/>\n",
              "  </svg>\n",
              "    </button>\n",
              "\n",
              "  <style>\n",
              "    .colab-df-container {\n",
              "      display:flex;\n",
              "      gap: 12px;\n",
              "    }\n",
              "\n",
              "    .colab-df-convert {\n",
              "      background-color: #E8F0FE;\n",
              "      border: none;\n",
              "      border-radius: 50%;\n",
              "      cursor: pointer;\n",
              "      display: none;\n",
              "      fill: #1967D2;\n",
              "      height: 32px;\n",
              "      padding: 0 0 0 0;\n",
              "      width: 32px;\n",
              "    }\n",
              "\n",
              "    .colab-df-convert:hover {\n",
              "      background-color: #E2EBFA;\n",
              "      box-shadow: 0px 1px 2px rgba(60, 64, 67, 0.3), 0px 1px 3px 1px rgba(60, 64, 67, 0.15);\n",
              "      fill: #174EA6;\n",
              "    }\n",
              "\n",
              "    .colab-df-buttons div {\n",
              "      margin-bottom: 4px;\n",
              "    }\n",
              "\n",
              "    [theme=dark] .colab-df-convert {\n",
              "      background-color: #3B4455;\n",
              "      fill: #D2E3FC;\n",
              "    }\n",
              "\n",
              "    [theme=dark] .colab-df-convert:hover {\n",
              "      background-color: #434B5C;\n",
              "      box-shadow: 0px 1px 3px 1px rgba(0, 0, 0, 0.15);\n",
              "      filter: drop-shadow(0px 1px 2px rgba(0, 0, 0, 0.3));\n",
              "      fill: #FFFFFF;\n",
              "    }\n",
              "  </style>\n",
              "\n",
              "    <script>\n",
              "      const buttonEl =\n",
              "        document.querySelector('#df-3d202117-50ef-4957-b21f-1479ac69e930 button.colab-df-convert');\n",
              "      buttonEl.style.display =\n",
              "        google.colab.kernel.accessAllowed ? 'block' : 'none';\n",
              "\n",
              "      async function convertToInteractive(key) {\n",
              "        const element = document.querySelector('#df-3d202117-50ef-4957-b21f-1479ac69e930');\n",
              "        const dataTable =\n",
              "          await google.colab.kernel.invokeFunction('convertToInteractive',\n",
              "                                                    [key], {});\n",
              "        if (!dataTable) return;\n",
              "\n",
              "        const docLinkHtml = 'Like what you see? Visit the ' +\n",
              "          '<a target=\"_blank\" href=https://colab.research.google.com/notebooks/data_table.ipynb>data table notebook</a>'\n",
              "          + ' to learn more about interactive tables.';\n",
              "        element.innerHTML = '';\n",
              "        dataTable['output_type'] = 'display_data';\n",
              "        await google.colab.output.renderOutput(dataTable, element);\n",
              "        const docLink = document.createElement('div');\n",
              "        docLink.innerHTML = docLinkHtml;\n",
              "        element.appendChild(docLink);\n",
              "      }\n",
              "    </script>\n",
              "  </div>\n",
              "\n",
              "\n",
              "    <div id=\"df-b4018eae-360d-4c7b-b3af-517ab45a2e1e\">\n",
              "      <button class=\"colab-df-quickchart\" onclick=\"quickchart('df-b4018eae-360d-4c7b-b3af-517ab45a2e1e')\"\n",
              "                title=\"Suggest charts\"\n",
              "                style=\"display:none;\">\n",
              "\n",
              "<svg xmlns=\"http://www.w3.org/2000/svg\" height=\"24px\"viewBox=\"0 0 24 24\"\n",
              "     width=\"24px\">\n",
              "    <g>\n",
              "        <path d=\"M19 3H5c-1.1 0-2 .9-2 2v14c0 1.1.9 2 2 2h14c1.1 0 2-.9 2-2V5c0-1.1-.9-2-2-2zM9 17H7v-7h2v7zm4 0h-2V7h2v10zm4 0h-2v-4h2v4z\"/>\n",
              "    </g>\n",
              "</svg>\n",
              "      </button>\n",
              "\n",
              "<style>\n",
              "  .colab-df-quickchart {\n",
              "      --bg-color: #E8F0FE;\n",
              "      --fill-color: #1967D2;\n",
              "      --hover-bg-color: #E2EBFA;\n",
              "      --hover-fill-color: #174EA6;\n",
              "      --disabled-fill-color: #AAA;\n",
              "      --disabled-bg-color: #DDD;\n",
              "  }\n",
              "\n",
              "  [theme=dark] .colab-df-quickchart {\n",
              "      --bg-color: #3B4455;\n",
              "      --fill-color: #D2E3FC;\n",
              "      --hover-bg-color: #434B5C;\n",
              "      --hover-fill-color: #FFFFFF;\n",
              "      --disabled-bg-color: #3B4455;\n",
              "      --disabled-fill-color: #666;\n",
              "  }\n",
              "\n",
              "  .colab-df-quickchart {\n",
              "    background-color: var(--bg-color);\n",
              "    border: none;\n",
              "    border-radius: 50%;\n",
              "    cursor: pointer;\n",
              "    display: none;\n",
              "    fill: var(--fill-color);\n",
              "    height: 32px;\n",
              "    padding: 0;\n",
              "    width: 32px;\n",
              "  }\n",
              "\n",
              "  .colab-df-quickchart:hover {\n",
              "    background-color: var(--hover-bg-color);\n",
              "    box-shadow: 0 1px 2px rgba(60, 64, 67, 0.3), 0 1px 3px 1px rgba(60, 64, 67, 0.15);\n",
              "    fill: var(--button-hover-fill-color);\n",
              "  }\n",
              "\n",
              "  .colab-df-quickchart-complete:disabled,\n",
              "  .colab-df-quickchart-complete:disabled:hover {\n",
              "    background-color: var(--disabled-bg-color);\n",
              "    fill: var(--disabled-fill-color);\n",
              "    box-shadow: none;\n",
              "  }\n",
              "\n",
              "  .colab-df-spinner {\n",
              "    border: 2px solid var(--fill-color);\n",
              "    border-color: transparent;\n",
              "    border-bottom-color: var(--fill-color);\n",
              "    animation:\n",
              "      spin 1s steps(1) infinite;\n",
              "  }\n",
              "\n",
              "  @keyframes spin {\n",
              "    0% {\n",
              "      border-color: transparent;\n",
              "      border-bottom-color: var(--fill-color);\n",
              "      border-left-color: var(--fill-color);\n",
              "    }\n",
              "    20% {\n",
              "      border-color: transparent;\n",
              "      border-left-color: var(--fill-color);\n",
              "      border-top-color: var(--fill-color);\n",
              "    }\n",
              "    30% {\n",
              "      border-color: transparent;\n",
              "      border-left-color: var(--fill-color);\n",
              "      border-top-color: var(--fill-color);\n",
              "      border-right-color: var(--fill-color);\n",
              "    }\n",
              "    40% {\n",
              "      border-color: transparent;\n",
              "      border-right-color: var(--fill-color);\n",
              "      border-top-color: var(--fill-color);\n",
              "    }\n",
              "    60% {\n",
              "      border-color: transparent;\n",
              "      border-right-color: var(--fill-color);\n",
              "    }\n",
              "    80% {\n",
              "      border-color: transparent;\n",
              "      border-right-color: var(--fill-color);\n",
              "      border-bottom-color: var(--fill-color);\n",
              "    }\n",
              "    90% {\n",
              "      border-color: transparent;\n",
              "      border-bottom-color: var(--fill-color);\n",
              "    }\n",
              "  }\n",
              "</style>\n",
              "\n",
              "      <script>\n",
              "        async function quickchart(key) {\n",
              "          const quickchartButtonEl =\n",
              "            document.querySelector('#' + key + ' button');\n",
              "          quickchartButtonEl.disabled = true;  // To prevent multiple clicks.\n",
              "          quickchartButtonEl.classList.add('colab-df-spinner');\n",
              "          try {\n",
              "            const charts = await google.colab.kernel.invokeFunction(\n",
              "                'suggestCharts', [key], {});\n",
              "          } catch (error) {\n",
              "            console.error('Error during call to suggestCharts:', error);\n",
              "          }\n",
              "          quickchartButtonEl.classList.remove('colab-df-spinner');\n",
              "          quickchartButtonEl.classList.add('colab-df-quickchart-complete');\n",
              "        }\n",
              "        (() => {\n",
              "          let quickchartButtonEl =\n",
              "            document.querySelector('#df-b4018eae-360d-4c7b-b3af-517ab45a2e1e button');\n",
              "          quickchartButtonEl.style.display =\n",
              "            google.colab.kernel.accessAllowed ? 'block' : 'none';\n",
              "        })();\n",
              "      </script>\n",
              "    </div>\n",
              "\n",
              "    </div>\n",
              "  </div>\n"
            ],
            "application/vnd.google.colaboratory.intrinsic+json": {
              "type": "dataframe",
              "variable_name": "df"
            }
          },
          "metadata": {},
          "execution_count": 2
        }
      ]
    },
    {
      "cell_type": "code",
      "source": [
        "df.info()"
      ],
      "metadata": {
        "colab": {
          "base_uri": "https://localhost:8080/"
        },
        "id": "TtThmng1Wcyv",
        "outputId": "f4b2329f-6826-457f-ab19-fdef7aa2bca6"
      },
      "execution_count": null,
      "outputs": [
        {
          "output_type": "stream",
          "name": "stdout",
          "text": [
            "<class 'pandas.core.frame.DataFrame'>\n",
            "RangeIndex: 1010 entries, 0 to 1009\n",
            "Data columns (total 60 columns):\n",
            " #   Column                          Non-Null Count  Dtype  \n",
            "---  ------                          --------------  -----  \n",
            " 0   Car_ID                          1010 non-null   object \n",
            " 1   Scheduled_Assembly_Date         1010 non-null   object \n",
            " 2   Engine_Delivery_Date            1010 non-null   object \n",
            " 3   Engine_Supplier_Region          1010 non-null   object \n",
            " 4   Engine_Transport_Mode           1010 non-null   object \n",
            " 5   Is_Critical_Engine              1010 non-null   int64  \n",
            " 6   Transmission_Delivery_Date      1010 non-null   object \n",
            " 7   Transmission_Supplier_Region    1010 non-null   object \n",
            " 8   Transmission_Transport_Mode     1010 non-null   object \n",
            " 9   Is_Critical_Transmission        1010 non-null   int64  \n",
            " 10  Brake_System_Delivery_Date      1010 non-null   object \n",
            " 11  Brake_System_Supplier_Region    1010 non-null   object \n",
            " 12  Brake_System_Transport_Mode     1010 non-null   object \n",
            " 13  Is_Critical_Brake_System        1010 non-null   int64  \n",
            " 14  Suspension_Delivery_Date        1010 non-null   object \n",
            " 15  Suspension_Supplier_Region      1010 non-null   object \n",
            " 16  Suspension_Transport_Mode       1010 non-null   object \n",
            " 17  Is_Critical_Suspension          1010 non-null   int64  \n",
            " 18  Infotainment_Delivery_Date      1010 non-null   object \n",
            " 19  Infotainment_Supplier_Region    1010 non-null   object \n",
            " 20  Infotainment_Transport_Mode     1010 non-null   object \n",
            " 21  Is_Critical_Infotainment        1010 non-null   int64  \n",
            " 22  Car_Delayed                     1010 non-null   int64  \n",
            " 23  Delay_Days                      1010 non-null   float64\n",
            " 24  Financial_Impact_USD            1010 non-null   float64\n",
            " 25  Engine_Delayed_Flag             1010 non-null   int64  \n",
            " 26  Transmission_Delayed_Flag       1010 non-null   int64  \n",
            " 27  Brake_System_Delayed_Flag       1010 non-null   int64  \n",
            " 28  Suspension_Delayed_Flag         1010 non-null   int64  \n",
            " 29  Infotainment_Delayed_Flag       1010 non-null   int64  \n",
            " 30  Any_Critical_Part_Delayed       1010 non-null   int64  \n",
            " 31  Engine_Delay_Reason             1010 non-null   object \n",
            " 32  Transmission_Delay_Reason       1010 non-null   object \n",
            " 33  Brake_System_Delay_Reason       1010 non-null   object \n",
            " 34  Suspension_Delay_Reason         1010 non-null   object \n",
            " 35  Infotainment_Delay_Reason       1010 non-null   object \n",
            " 36  Order_Urgency                   1010 non-null   object \n",
            " 37  Holiday_Proximity               1010 non-null   int64  \n",
            " 38  Inventory_Buffer_Used           1010 non-null   int64  \n",
            " 39  Weather_Condition_On_Delivery   1010 non-null   object \n",
            " 40  Strike_Notice                   1010 non-null   int64  \n",
            " 41  Production_Shift                1010 non-null   object \n",
            " 42  Valid_Delay                     1010 non-null   bool   \n",
            " 43  Total_Parts_Delayed             1010 non-null   int64  \n",
            " 44  Route_Type                      1010 non-null   object \n",
            " 45  Distance_KM                     1010 non-null   float64\n",
            " 46  Traffic_Level                   1010 non-null   object \n",
            " 47  Supplier_Performance_Score      1010 non-null   float64\n",
            " 48  Contract_Penalty_Per_Day        1010 non-null   int64  \n",
            " 49  Engine_Supplier_Group           1010 non-null   object \n",
            " 50  Transmission_Supplier_Group     1010 non-null   object \n",
            " 51  Brake_System_Supplier_Group     1010 non-null   object \n",
            " 52  Suspension_Supplier_Group       1010 non-null   object \n",
            " 53  Infotainment_Supplier_Group     1010 non-null   object \n",
            " 54  Engine_Reliability_Score        1010 non-null   float64\n",
            " 55  Transmission_Reliability_Score  1010 non-null   float64\n",
            " 56  Brake_System_Reliability_Score  1010 non-null   float64\n",
            " 57  Suspension_Reliability_Score    1010 non-null   float64\n",
            " 58  Infotainment_Reliability_Score  1010 non-null   float64\n",
            " 59  Traffic_Severity_Index          1010 non-null   float64\n",
            "dtypes: bool(1), float64(10), int64(17), object(32)\n",
            "memory usage: 466.7+ KB\n"
          ]
        }
      ]
    },
    {
      "cell_type": "markdown",
      "source": [
        "#  Step 3: Inspect Dataset Dimensions and Columns"
      ],
      "metadata": {
        "id": "jRm_EIwCXHrE"
      }
    },
    {
      "cell_type": "code",
      "source": [
        "df.shape # Expecting around 1007 records and 55 columns"
      ],
      "metadata": {
        "colab": {
          "base_uri": "https://localhost:8080/"
        },
        "id": "DAbSDgtzNvbB",
        "outputId": "b55dabd2-bcc7-477b-8335-b7dad154a7c9"
      },
      "execution_count": null,
      "outputs": [
        {
          "output_type": "execute_result",
          "data": {
            "text/plain": [
              "(1010, 60)"
            ]
          },
          "metadata": {},
          "execution_count": 4
        }
      ]
    },
    {
      "cell_type": "code",
      "source": [
        "# View Available Columns\n",
        "# This gives us a view of all part-level, supplier-level, and shipment-level features available for engineering.\n",
        "df.columns # Check all feature names and understand available variables"
      ],
      "metadata": {
        "colab": {
          "base_uri": "https://localhost:8080/"
        },
        "id": "gMLDHDHMNzmZ",
        "outputId": "efd740a4-f5d1-452e-9183-832b6aad48bb"
      },
      "execution_count": null,
      "outputs": [
        {
          "output_type": "execute_result",
          "data": {
            "text/plain": [
              "Index(['Car_ID', 'Scheduled_Assembly_Date', 'Engine_Delivery_Date',\n",
              "       'Engine_Supplier_Region', 'Engine_Transport_Mode', 'Is_Critical_Engine',\n",
              "       'Transmission_Delivery_Date', 'Transmission_Supplier_Region',\n",
              "       'Transmission_Transport_Mode', 'Is_Critical_Transmission',\n",
              "       'Brake_System_Delivery_Date', 'Brake_System_Supplier_Region',\n",
              "       'Brake_System_Transport_Mode', 'Is_Critical_Brake_System',\n",
              "       'Suspension_Delivery_Date', 'Suspension_Supplier_Region',\n",
              "       'Suspension_Transport_Mode', 'Is_Critical_Suspension',\n",
              "       'Infotainment_Delivery_Date', 'Infotainment_Supplier_Region',\n",
              "       'Infotainment_Transport_Mode', 'Is_Critical_Infotainment',\n",
              "       'Car_Delayed', 'Delay_Days', 'Financial_Impact_USD',\n",
              "       'Engine_Delayed_Flag', 'Transmission_Delayed_Flag',\n",
              "       'Brake_System_Delayed_Flag', 'Suspension_Delayed_Flag',\n",
              "       'Infotainment_Delayed_Flag', 'Any_Critical_Part_Delayed',\n",
              "       'Engine_Delay_Reason', 'Transmission_Delay_Reason',\n",
              "       'Brake_System_Delay_Reason', 'Suspension_Delay_Reason',\n",
              "       'Infotainment_Delay_Reason', 'Order_Urgency', 'Holiday_Proximity',\n",
              "       'Inventory_Buffer_Used', 'Weather_Condition_On_Delivery',\n",
              "       'Strike_Notice', 'Production_Shift', 'Valid_Delay',\n",
              "       'Total_Parts_Delayed', 'Route_Type', 'Distance_KM', 'Traffic_Level',\n",
              "       'Supplier_Performance_Score', 'Contract_Penalty_Per_Day',\n",
              "       'Engine_Supplier_Group', 'Transmission_Supplier_Group',\n",
              "       'Brake_System_Supplier_Group', 'Suspension_Supplier_Group',\n",
              "       'Infotainment_Supplier_Group', 'Engine_Reliability_Score',\n",
              "       'Transmission_Reliability_Score', 'Brake_System_Reliability_Score',\n",
              "       'Suspension_Reliability_Score', 'Infotainment_Reliability_Score',\n",
              "       'Traffic_Severity_Index'],\n",
              "      dtype='object')"
            ]
          },
          "metadata": {},
          "execution_count": 5
        }
      ]
    },
    {
      "cell_type": "markdown",
      "source": [
        "# Step 4: Parse and Engineer Temporal Features"
      ],
      "metadata": {
        "id": "YtgCAskOXLfk"
      }
    },
    {
      "cell_type": "code",
      "source": [
        "# Step 3: Convert Assembly Date to Datetime and Extract Temporal Features\n",
        "df[\"Scheduled_Assembly_Date\"]= pd.to_datetime(df[\"Scheduled_Assembly_Date\"])"
      ],
      "metadata": {
        "id": "CUDwtNX4N6Ga"
      },
      "execution_count": null,
      "outputs": []
    },
    {
      "cell_type": "code",
      "source": [
        "# Extracting month and quarter of scheduled shipment for seasonal patterns\n",
        "df['Month_Scheduled'] = df['Scheduled_Assembly_Date'].dt.month\n",
        "df['Quarter_Scheduled'] = df['Scheduled_Assembly_Date'].dt.quarter"
      ],
      "metadata": {
        "id": "WbBr____OBAJ"
      },
      "execution_count": null,
      "outputs": []
    },
    {
      "cell_type": "markdown",
      "source": [
        "The exact Scheduled Assembly Date provides highly granular information that can be noisy and less effective for modeling temporal patterns. To capture meaningful seasonality and trends in shipment delays, we extract:\n",
        "\n",
        "- Month of Scheduled Shipment (Month_Scheduled)\n",
        "\n",
        "- Quarter of Scheduled Shipment (Quarter_Scheduled)\n",
        "\n",
        "These aggregated time features enable the detection of seasonal fluctuations and cyclical patterns impacting supply chain performance, such as:\n",
        "\n",
        "- Increased delays during peak production quarters\n",
        "\n",
        "- Variations due to holidays, weather conditions, or supplier capacity cycles\n",
        "\n",
        "Incorporating these temporal features improves the model’s ability to generalize over time and anticipate periods with elevated delay risk."
      ],
      "metadata": {
        "id": "WS-TQpTEOMhm"
      }
    },
    {
      "cell_type": "markdown",
      "source": [
        "# Step 5: Convert Delivery Dates to Datetime Format, Flag Part-Level Delivery Delays (Based on 2-Day Cutoff)"
      ],
      "metadata": {
        "id": "67JqAeYHXPpk"
      }
    },
    {
      "cell_type": "markdown",
      "source": [
        "Flag Part-Level Delivery Delays (Based on 2-Day Cutoff)"
      ],
      "metadata": {
        "id": "LOiNxGNJXY2a"
      }
    },
    {
      "cell_type": "code",
      "source": [
        "# Step 4: Convert Parts Delivery Dates to Datetime Format\n",
        "parts_delivery_cols=[\"Engine_Delivery_Date\", \"Transmission_Delivery_Date\", \"Brake_System_Delivery_Date\", \"Suspension_Delivery_Date\", \"Infotainment_Delivery_Date\"]\n",
        "for col in parts_delivery_cols:\n",
        "  df[col]=pd.to_datetime(df[col])\n",
        "# Step 5: Generate Delayed Flags for Each Part Based on 2-Day Cutoff Rule\n",
        "parts_flag_cols=['Engine_Delayed_Flag', 'Transmission_Delayed_Flag','Brake_System_Delayed_Flag', 'Suspension_Delayed_Flag', 'Infotainment_Delayed_Flag']\n",
        "# If part arrives after the cutoff (2 days before assembly), it's delayed\n",
        "prediction_cutoff_date = df[\"Scheduled_Assembly_Date\"] - pd.Timedelta(days=2)\n",
        "for delivery_col, flag_col in zip(parts_delivery_cols, parts_flag_cols,):\n",
        "  df[flag_col]= ((df[delivery_col].notna()) & (df[delivery_col]>prediction_cutoff_date)).astype(int)"
      ],
      "metadata": {
        "id": "zOiiY1ryOEJK"
      },
      "execution_count": null,
      "outputs": []
    },
    {
      "cell_type": "markdown",
      "source": [
        "In the automotive supply chain, each vehicle assembly requires critical parts to arrive at least 2 days in advance of the scheduled assembly date. This 2-day buffer accounts for:\n",
        "\n",
        "Quality checks, paperwork, and pre-assembly processing of parts\n",
        "Internal logistics like sorting, staging, and line preparation\n",
        "\n",
        "To operationalize this:\n",
        "\n",
        "We converted all parts delivery dates into a uniform datetime format to enable accurate comparisons.\n",
        "\n",
        "We created delay flags for each part type, checking whether a part arrived later than 2 days before the scheduled car assembly date.\n",
        "\n",
        "If a part missed this 2-day window, it was marked as delayed (flag = 1).\n",
        "\n",
        "If it arrived on time, it was marked as not delayed (flag = 0).\n",
        "\n",
        "This approach ensures our models predict shipment delays based on real-world logistics timelines and business constraints."
      ],
      "metadata": {
        "id": "vmfvr-fqOWDd"
      }
    },
    {
      "cell_type": "markdown",
      "source": [
        "#Step 6: Compute Aggregated Delay Features"
      ],
      "metadata": {
        "id": "o2F0yakLXfSo"
      }
    },
    {
      "cell_type": "code",
      "source": [
        "# Step 6: Create Total Parts Delayed Feature\n",
        "df[\"Total_Parts_Delayed\"]=df[['Engine_Delayed_Flag', 'Transmission_Delayed_Flag','Brake_System_Delayed_Flag', 'Suspension_Delayed_Flag', 'Infotainment_Delayed_Flag']].sum(axis=1)\n",
        "df[\"Total_Delayed_Ratio\"] = df[\"Total_Parts_Delayed\"] / 5\n",
        "#(max 5 parts)\n",
        "df['Is_Any_Part_Delayed'] = (df['Total_Parts_Delayed'] > 0).astype(int)\n",
        "df['All_Parts_On_Time'] = (df['Total_Parts_Delayed'] == 0).astype(int)"
      ],
      "metadata": {
        "id": "SrczXveVOX3P"
      },
      "execution_count": null,
      "outputs": []
    },
    {
      "cell_type": "markdown",
      "source": [
        "To quantify the overall impact of parts delays on car shipment, we calculate the Total Parts Delayed by summing the individual delay flags across all critical parts:\n",
        "- Engine\n",
        "- Transmission\n",
        "- Brake System\n",
        "- Suspension\n",
        "- Infotainment\n",
        "\n",
        "This aggregated metric provides a clear indicator of how many parts experienced delivery delays per vehicle, helping identify shipments at higher risk due to multiple delayed components. It supports prioritizing interventions on orders with greater cumulative delays."
      ],
      "metadata": {
        "id": "b7JY_lUfTSTB"
      }
    },
    {
      "cell_type": "markdown",
      "source": [
        "#  Step 7: Flag If Any Critical Part Was Delayed"
      ],
      "metadata": {
        "id": "XCLzLcQEXpNC"
      }
    },
    {
      "cell_type": "code",
      "source": [
        "# Step 7: Create Flags for Critical Part Delays\n",
        "# This checks if any delayed part was critical to the car\n",
        "df[\"Any_Critical_Part_Delayed\"]=((df[\"Engine_Delayed_Flag\"]& df[\"Is_Critical_Engine\"])|\n",
        "(df[\"Transmission_Delayed_Flag\"]& df[\"Is_Critical_Transmission\"])|\n",
        "(df[\"Brake_System_Delayed_Flag\"]& df[\"Is_Critical_Brake_System\"])|\n",
        "(df[\"Suspension_Delayed_Flag\"] & df[\"Is_Critical_Suspension\"])|\n",
        "(df[\"Infotainment_Delayed_Flag\"] & df[\"Is_Critical_Infotainment\"]))"
      ],
      "metadata": {
        "id": "ISmvMRWLTZoc"
      },
      "execution_count": null,
      "outputs": []
    },
    {
      "cell_type": "markdown",
      "source": [
        "This feature identifies whether any delayed part is critical to the vehicle’s assembly process.\n",
        "\n",
        "By combining the delay status of each part with its criticality indicator, we flag shipments where at least one essential component was delayed.\n",
        "\n",
        "This binary flag helps prioritize delays that are more likely to cause major production disruptions, as critical parts have a direct impact on the car’s completion and shipment schedule"
      ],
      "metadata": {
        "id": "sC8b9uPBTdTP"
      }
    },
    {
      "cell_type": "markdown",
      "source": [
        "# Step 8: Count of Critical and Non-Critical Parts Delayed"
      ],
      "metadata": {
        "id": "Z5bYl0nBXs9i"
      }
    },
    {
      "cell_type": "code",
      "source": [
        "# Step 8: Count of Critical Parts Delayed\n",
        "df['Sum_Critical_Parts_Delayed'] = (\n",
        "    (df[\"Engine_Delayed_Flag\"] & df[\"Is_Critical_Engine\"]) +\n",
        "    (df[\"Transmission_Delayed_Flag\"] & df[\"Is_Critical_Transmission\"]) +\n",
        "    (df[\"Brake_System_Delayed_Flag\"] & df[\"Is_Critical_Brake_System\"]) +\n",
        "    (df[\"Suspension_Delayed_Flag\"] & df[\"Is_Critical_Suspension\"]) +\n",
        "    (df[\"Infotainment_Delayed_Flag\"] & df[\"Is_Critical_Infotainment\"])\n",
        ")"
      ],
      "metadata": {
        "id": "qWo_oq32TfwO"
      },
      "execution_count": null,
      "outputs": []
    },
    {
      "cell_type": "markdown",
      "source": [
        "This feature calculates the total number of critical parts that experienced delivery delays for each car shipment.\n",
        "\n",
        "By summing the flags where a part is both delayed and marked as critical, it provides a numeric measure of how many essential components were late.\n",
        "\n",
        "This count enables a more granular assessment of delay severity and supports prioritization of shipments with multiple critical part delays, which typically have higher risk of overall shipment delay."
      ],
      "metadata": {
        "id": "vE80B7_CTiQU"
      }
    },
    {
      "cell_type": "code",
      "source": [
        "df[\"Total_Critical_Parts\"] = df[[\n",
        "    \"Is_Critical_Engine\", \"Is_Critical_Transmission\",\n",
        "    \"Is_Critical_Brake_System\", \"Is_Critical_Suspension\",\n",
        "    \"Is_Critical_Infotainment\"\n",
        "]].sum(axis=1)\n",
        "df[\"Non_Critical_Parts_Delayed_Count\"] = df[\"Total_Parts_Delayed\"] - df[\"Sum_Critical_Parts_Delayed\"]\n",
        "df[\"Critical_Parts_Ratio\"] = df[\"Sum_Critical_Parts_Delayed\"] / df[\"Total_Critical_Parts\"].replace(0, 1)"
      ],
      "metadata": {
        "id": "amIbQ5JUTlGl"
      },
      "execution_count": null,
      "outputs": []
    },
    {
      "cell_type": "markdown",
      "source": [
        "# Step 9: Convenience Flags"
      ],
      "metadata": {
        "id": "w3NAW-SjXzr5"
      }
    },
    {
      "cell_type": "code",
      "source": [
        "# All critical parts on time\n",
        "df['All_Critical_Parts_On_Time'] = (df['Sum_Critical_Parts_Delayed'] == 0).astype(int)"
      ],
      "metadata": {
        "id": "UMlVwF-mT7Fh"
      },
      "execution_count": null,
      "outputs": []
    },
    {
      "cell_type": "markdown",
      "source": [
        "# Step 10: Dropping the irrelevant columns."
      ],
      "metadata": {
        "id": "wc7OXfrxZjor"
      }
    },
    {
      "cell_type": "code",
      "source": [
        "# Drop Irrelevant or Leakage-Prone Columns\n",
        "columns_to_drop = [\n",
        "    'Car_ID',  # only needed for reference\n",
        "    'Scheduled_Assembly_Date',\n",
        "    'Engine_Delivery_Date', 'Transmission_Delivery_Date',\n",
        "    'Brake_System_Delivery_Date', 'Suspension_Delivery_Date',\n",
        "    'Infotainment_Delivery_Date',\n",
        "    'Engine_Delay_Reason', 'Transmission_Delay_Reason',\n",
        "    'Brake_System_Delay_Reason', 'Suspension_Delay_Reason',\n",
        "    'Infotainment_Delay_Reason',\n",
        "    'Inventory_Buffer_Used', # Not useful for prediction\n",
        "    # Leakage columns: these represent target or post-event info not available before prediction\n",
        "    'Financial_Impact_USD', 'Valid_Delay', 'Car_Delayed'\n",
        "    ]\n",
        "df = df.drop(columns=columns_to_drop)"
      ],
      "metadata": {
        "id": "5nhJqBHJYBAx"
      },
      "execution_count": null,
      "outputs": []
    },
    {
      "cell_type": "markdown",
      "source": [
        "### Summary of Engineered Features\n",
        "\n",
        "| Feature Name                 | Description                                             |\n",
        "|-----------------------------|---------------------------------------------------------|\n",
        "| Month_Scheduled             | Month extracted from scheduled assembly date           |\n",
        "| Quarter_Scheduled           | Quarter extracted from scheduled assembly date         |\n",
        "| Total_Parts_Delayed         | Total number of parts delayed per shipment              |\n",
        "| Total_Delayed_Ratio         | Ratio of delayed parts to total parts (max 5)           |\n",
        "| Is_Any_Part_Delayed         | Binary flag if any part is delayed                       |\n",
        "| Any_Critical_Part_Delayed   | Binary flag if any critical part is delayed              |\n",
        "| Sum_Critical_Parts_Delayed  | Number of critical parts delayed                          |\n",
        "| Non_Critical_Parts_Delayed_Count | Number of non-critical parts delayed                |\n",
        "| Critical_Parts_Ratio        | Ratio of critical parts delayed to total critical parts  |\n",
        "| All_Critical_Parts_On_Time  | Binary flag if all critical parts arrived on time        |\n"
      ],
      "metadata": {
        "id": "hZG_qpJq9Rbw"
      }
    },
    {
      "cell_type": "markdown",
      "source": [
        "# Step 11: Saving the dataset for modeling."
      ],
      "metadata": {
        "id": "4p6k1s6MZo1n"
      }
    },
    {
      "cell_type": "code",
      "source": [
        "df.to_csv(\"delay_days_regression_final.csv\", index=False)"
      ],
      "metadata": {
        "id": "TKEFrr36ZCnt"
      },
      "execution_count": null,
      "outputs": []
    }
  ]
}