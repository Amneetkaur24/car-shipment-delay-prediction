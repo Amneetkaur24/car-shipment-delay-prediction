{
  "nbformat": 4,
  "nbformat_minor": 0,
  "metadata": {
    "colab": {
      "provenance": []
    },
    "kernelspec": {
      "name": "python3",
      "display_name": "Python 3"
    },
    "language_info": {
      "name": "python"
    }
  },
  "cells": [
    {
      "cell_type": "markdown",
      "source": [
        "#Predicting Financial Impact of Car Part Delays"
      ],
      "metadata": {
        "id": "Efy896H3GoLw"
      }
    },
    {
      "cell_type": "markdown",
      "source": [
        "This notebook focuses on building a predictive model to estimate the financial impact caused by delays in car part deliveries within the automotive supply chain. By analyzing various factors such as supplier performance, part criticality, and transportation conditions, the model aims to provide accurate forecasts of potential financial losses."
      ],
      "metadata": {
        "id": "_YL5dEyeGr4D"
      }
    },
    {
      "cell_type": "markdown",
      "source": [
        "## Step 1 : Importing Libraries"
      ],
      "metadata": {
        "id": "oztuu6kdGwTN"
      }
    },
    {
      "cell_type": "code",
      "execution_count": 22,
      "metadata": {
        "id": "E_DrsWwF-4WS"
      },
      "outputs": [],
      "source": [
        "# Importing Libraries\n",
        "import pandas as pd\n",
        "import numpy as np\n",
        "import matplotlib.pyplot as plt\n",
        "import seaborn as sns\n",
        "from sklearn.model_selection import train_test_split\n",
        "from sklearn.preprocessing import StandardScaler\n",
        "from sklearn.ensemble import RandomForestRegressor\n",
        "from sklearn.metrics import r2_score, mean_absolute_error, mean_squared_error\n",
        "import joblib"
      ]
    },
    {
      "cell_type": "markdown",
      "source": [
        "## Loading the Dataset"
      ],
      "metadata": {
        "id": "3Lcxban7G1xe"
      }
    },
    {
      "cell_type": "code",
      "source": [
        "# Step 2: Load dataset\n",
        "df = pd.read_csv(\"Financial_Impact_Regression_Final_Dataset (1).csv\")"
      ],
      "metadata": {
        "id": "E4NfJ5V_-9GD"
      },
      "execution_count": 3,
      "outputs": []
    },
    {
      "cell_type": "code",
      "source": [
        "# Step 3: Basic overview\n",
        "print(\"Shape of data:\", df.shape)\n",
        "df.head()"
      ],
      "metadata": {
        "colab": {
          "base_uri": "https://localhost:8080/",
          "height": 273
        },
        "id": "j1AfkkCk--6o",
        "outputId": "7e6df6a2-e9ea-4c62-f103-30a812303ea8"
      },
      "execution_count": 4,
      "outputs": [
        {
          "output_type": "stream",
          "name": "stdout",
          "text": [
            "Shape of data: (1010, 79)\n"
          ]
        },
        {
          "output_type": "execute_result",
          "data": {
            "text/plain": [
              "  Engine_Supplier_Region  Engine_Supplier_Reliability Engine_Transport_Mode  \\\n",
              "0                   EAST                         0.76                  ROAD   \n",
              "1                  NORTH                         0.75                   SEA   \n",
              "2                   WEST                         0.74                   AIR   \n",
              "3                   EAST                         0.85                  ROAD   \n",
              "4                  SOUTH                         0.79                   AIR   \n",
              "\n",
              "   Is_Critical_Engine Transmission_Supplier_Region  \\\n",
              "0                   1                        NORTH   \n",
              "1                   1                         EAST   \n",
              "2                   0                         EAST   \n",
              "3                   0                         EAST   \n",
              "4                   0                        SOUTH   \n",
              "\n",
              "   Transmission_Supplier_Reliability Transmission_Transport_Mode  \\\n",
              "0                               0.79                        ROAD   \n",
              "1                               0.98                         AIR   \n",
              "2                               0.95                         AIR   \n",
              "3                               0.92                        ROAD   \n",
              "4                               0.79                         AIR   \n",
              "\n",
              "   Is_Critical_Transmission Brake_System_Supplier_Region  \\\n",
              "0                         0                        SOUTH   \n",
              "1                         1                         EAST   \n",
              "2                         1                         EAST   \n",
              "3                         1                        NORTH   \n",
              "4                         0                        NORTH   \n",
              "\n",
              "   Brake_System_Supplier_Reliability  ... Critical_Susp_x_Delay  \\\n",
              "0                               0.94  ...                     1   \n",
              "1                               0.99  ...                     0   \n",
              "2                               0.85  ...                     0   \n",
              "3                               0.76  ...                     0   \n",
              "4                               0.80  ...                     0   \n",
              "\n",
              "   Critical_Info_x_Delay Urgency_x_TotalDelayed  Holiday_x_CriticalDelay  \\\n",
              "0                      0     MEDIUMMEDIUMMEDIUM                        0   \n",
              "1                      0           MEDIUMMEDIUM                        0   \n",
              "2                      0                    NaN                        0   \n",
              "3                      1       HIGHHIGHHIGHHIGH                        0   \n",
              "4                      0                    LOW                        0   \n",
              "\n",
              "  Strike_x_TotalDelayed  Weather_x_TotalDelayed Is_Any_Part_Delayed  \\\n",
              "0                     0         STORMSTORMSTORM                   1   \n",
              "1                     0              CLEARCLEAR                   1   \n",
              "2                     0                     NaN                   0   \n",
              "3                     0    CLEARCLEARCLEARCLEAR                   1   \n",
              "4                     0                   CLEAR                   1   \n",
              "\n",
              "   All_Parts_On_Time All_Critical_Parts_On_Time  Financial_Impact_Log  \n",
              "0                  0                          0              7.824446  \n",
              "1                  0                          1              0.000000  \n",
              "2                  1                          1              0.000000  \n",
              "3                  0                          0              6.908755  \n",
              "4                  0                          1              0.000000  \n",
              "\n",
              "[5 rows x 79 columns]"
            ],
            "text/html": [
              "\n",
              "  <div id=\"df-732668f2-25c2-44ea-8c84-c8634d1c8a36\" class=\"colab-df-container\">\n",
              "    <div>\n",
              "<style scoped>\n",
              "    .dataframe tbody tr th:only-of-type {\n",
              "        vertical-align: middle;\n",
              "    }\n",
              "\n",
              "    .dataframe tbody tr th {\n",
              "        vertical-align: top;\n",
              "    }\n",
              "\n",
              "    .dataframe thead th {\n",
              "        text-align: right;\n",
              "    }\n",
              "</style>\n",
              "<table border=\"1\" class=\"dataframe\">\n",
              "  <thead>\n",
              "    <tr style=\"text-align: right;\">\n",
              "      <th></th>\n",
              "      <th>Engine_Supplier_Region</th>\n",
              "      <th>Engine_Supplier_Reliability</th>\n",
              "      <th>Engine_Transport_Mode</th>\n",
              "      <th>Is_Critical_Engine</th>\n",
              "      <th>Transmission_Supplier_Region</th>\n",
              "      <th>Transmission_Supplier_Reliability</th>\n",
              "      <th>Transmission_Transport_Mode</th>\n",
              "      <th>Is_Critical_Transmission</th>\n",
              "      <th>Brake_System_Supplier_Region</th>\n",
              "      <th>Brake_System_Supplier_Reliability</th>\n",
              "      <th>...</th>\n",
              "      <th>Critical_Susp_x_Delay</th>\n",
              "      <th>Critical_Info_x_Delay</th>\n",
              "      <th>Urgency_x_TotalDelayed</th>\n",
              "      <th>Holiday_x_CriticalDelay</th>\n",
              "      <th>Strike_x_TotalDelayed</th>\n",
              "      <th>Weather_x_TotalDelayed</th>\n",
              "      <th>Is_Any_Part_Delayed</th>\n",
              "      <th>All_Parts_On_Time</th>\n",
              "      <th>All_Critical_Parts_On_Time</th>\n",
              "      <th>Financial_Impact_Log</th>\n",
              "    </tr>\n",
              "  </thead>\n",
              "  <tbody>\n",
              "    <tr>\n",
              "      <th>0</th>\n",
              "      <td>EAST</td>\n",
              "      <td>0.76</td>\n",
              "      <td>ROAD</td>\n",
              "      <td>1</td>\n",
              "      <td>NORTH</td>\n",
              "      <td>0.79</td>\n",
              "      <td>ROAD</td>\n",
              "      <td>0</td>\n",
              "      <td>SOUTH</td>\n",
              "      <td>0.94</td>\n",
              "      <td>...</td>\n",
              "      <td>1</td>\n",
              "      <td>0</td>\n",
              "      <td>MEDIUMMEDIUMMEDIUM</td>\n",
              "      <td>0</td>\n",
              "      <td>0</td>\n",
              "      <td>STORMSTORMSTORM</td>\n",
              "      <td>1</td>\n",
              "      <td>0</td>\n",
              "      <td>0</td>\n",
              "      <td>7.824446</td>\n",
              "    </tr>\n",
              "    <tr>\n",
              "      <th>1</th>\n",
              "      <td>NORTH</td>\n",
              "      <td>0.75</td>\n",
              "      <td>SEA</td>\n",
              "      <td>1</td>\n",
              "      <td>EAST</td>\n",
              "      <td>0.98</td>\n",
              "      <td>AIR</td>\n",
              "      <td>1</td>\n",
              "      <td>EAST</td>\n",
              "      <td>0.99</td>\n",
              "      <td>...</td>\n",
              "      <td>0</td>\n",
              "      <td>0</td>\n",
              "      <td>MEDIUMMEDIUM</td>\n",
              "      <td>0</td>\n",
              "      <td>0</td>\n",
              "      <td>CLEARCLEAR</td>\n",
              "      <td>1</td>\n",
              "      <td>0</td>\n",
              "      <td>1</td>\n",
              "      <td>0.000000</td>\n",
              "    </tr>\n",
              "    <tr>\n",
              "      <th>2</th>\n",
              "      <td>WEST</td>\n",
              "      <td>0.74</td>\n",
              "      <td>AIR</td>\n",
              "      <td>0</td>\n",
              "      <td>EAST</td>\n",
              "      <td>0.95</td>\n",
              "      <td>AIR</td>\n",
              "      <td>1</td>\n",
              "      <td>EAST</td>\n",
              "      <td>0.85</td>\n",
              "      <td>...</td>\n",
              "      <td>0</td>\n",
              "      <td>0</td>\n",
              "      <td>NaN</td>\n",
              "      <td>0</td>\n",
              "      <td>0</td>\n",
              "      <td>NaN</td>\n",
              "      <td>0</td>\n",
              "      <td>1</td>\n",
              "      <td>1</td>\n",
              "      <td>0.000000</td>\n",
              "    </tr>\n",
              "    <tr>\n",
              "      <th>3</th>\n",
              "      <td>EAST</td>\n",
              "      <td>0.85</td>\n",
              "      <td>ROAD</td>\n",
              "      <td>0</td>\n",
              "      <td>EAST</td>\n",
              "      <td>0.92</td>\n",
              "      <td>ROAD</td>\n",
              "      <td>1</td>\n",
              "      <td>NORTH</td>\n",
              "      <td>0.76</td>\n",
              "      <td>...</td>\n",
              "      <td>0</td>\n",
              "      <td>1</td>\n",
              "      <td>HIGHHIGHHIGHHIGH</td>\n",
              "      <td>0</td>\n",
              "      <td>0</td>\n",
              "      <td>CLEARCLEARCLEARCLEAR</td>\n",
              "      <td>1</td>\n",
              "      <td>0</td>\n",
              "      <td>0</td>\n",
              "      <td>6.908755</td>\n",
              "    </tr>\n",
              "    <tr>\n",
              "      <th>4</th>\n",
              "      <td>SOUTH</td>\n",
              "      <td>0.79</td>\n",
              "      <td>AIR</td>\n",
              "      <td>0</td>\n",
              "      <td>SOUTH</td>\n",
              "      <td>0.79</td>\n",
              "      <td>AIR</td>\n",
              "      <td>0</td>\n",
              "      <td>NORTH</td>\n",
              "      <td>0.80</td>\n",
              "      <td>...</td>\n",
              "      <td>0</td>\n",
              "      <td>0</td>\n",
              "      <td>LOW</td>\n",
              "      <td>0</td>\n",
              "      <td>0</td>\n",
              "      <td>CLEAR</td>\n",
              "      <td>1</td>\n",
              "      <td>0</td>\n",
              "      <td>1</td>\n",
              "      <td>0.000000</td>\n",
              "    </tr>\n",
              "  </tbody>\n",
              "</table>\n",
              "<p>5 rows × 79 columns</p>\n",
              "</div>\n",
              "    <div class=\"colab-df-buttons\">\n",
              "\n",
              "  <div class=\"colab-df-container\">\n",
              "    <button class=\"colab-df-convert\" onclick=\"convertToInteractive('df-732668f2-25c2-44ea-8c84-c8634d1c8a36')\"\n",
              "            title=\"Convert this dataframe to an interactive table.\"\n",
              "            style=\"display:none;\">\n",
              "\n",
              "  <svg xmlns=\"http://www.w3.org/2000/svg\" height=\"24px\" viewBox=\"0 -960 960 960\">\n",
              "    <path d=\"M120-120v-720h720v720H120Zm60-500h600v-160H180v160Zm220 220h160v-160H400v160Zm0 220h160v-160H400v160ZM180-400h160v-160H180v160Zm440 0h160v-160H620v160ZM180-180h160v-160H180v160Zm440 0h160v-160H620v160Z\"/>\n",
              "  </svg>\n",
              "    </button>\n",
              "\n",
              "  <style>\n",
              "    .colab-df-container {\n",
              "      display:flex;\n",
              "      gap: 12px;\n",
              "    }\n",
              "\n",
              "    .colab-df-convert {\n",
              "      background-color: #E8F0FE;\n",
              "      border: none;\n",
              "      border-radius: 50%;\n",
              "      cursor: pointer;\n",
              "      display: none;\n",
              "      fill: #1967D2;\n",
              "      height: 32px;\n",
              "      padding: 0 0 0 0;\n",
              "      width: 32px;\n",
              "    }\n",
              "\n",
              "    .colab-df-convert:hover {\n",
              "      background-color: #E2EBFA;\n",
              "      box-shadow: 0px 1px 2px rgba(60, 64, 67, 0.3), 0px 1px 3px 1px rgba(60, 64, 67, 0.15);\n",
              "      fill: #174EA6;\n",
              "    }\n",
              "\n",
              "    .colab-df-buttons div {\n",
              "      margin-bottom: 4px;\n",
              "    }\n",
              "\n",
              "    [theme=dark] .colab-df-convert {\n",
              "      background-color: #3B4455;\n",
              "      fill: #D2E3FC;\n",
              "    }\n",
              "\n",
              "    [theme=dark] .colab-df-convert:hover {\n",
              "      background-color: #434B5C;\n",
              "      box-shadow: 0px 1px 3px 1px rgba(0, 0, 0, 0.15);\n",
              "      filter: drop-shadow(0px 1px 2px rgba(0, 0, 0, 0.3));\n",
              "      fill: #FFFFFF;\n",
              "    }\n",
              "  </style>\n",
              "\n",
              "    <script>\n",
              "      const buttonEl =\n",
              "        document.querySelector('#df-732668f2-25c2-44ea-8c84-c8634d1c8a36 button.colab-df-convert');\n",
              "      buttonEl.style.display =\n",
              "        google.colab.kernel.accessAllowed ? 'block' : 'none';\n",
              "\n",
              "      async function convertToInteractive(key) {\n",
              "        const element = document.querySelector('#df-732668f2-25c2-44ea-8c84-c8634d1c8a36');\n",
              "        const dataTable =\n",
              "          await google.colab.kernel.invokeFunction('convertToInteractive',\n",
              "                                                    [key], {});\n",
              "        if (!dataTable) return;\n",
              "\n",
              "        const docLinkHtml = 'Like what you see? Visit the ' +\n",
              "          '<a target=\"_blank\" href=https://colab.research.google.com/notebooks/data_table.ipynb>data table notebook</a>'\n",
              "          + ' to learn more about interactive tables.';\n",
              "        element.innerHTML = '';\n",
              "        dataTable['output_type'] = 'display_data';\n",
              "        await google.colab.output.renderOutput(dataTable, element);\n",
              "        const docLink = document.createElement('div');\n",
              "        docLink.innerHTML = docLinkHtml;\n",
              "        element.appendChild(docLink);\n",
              "      }\n",
              "    </script>\n",
              "  </div>\n",
              "\n",
              "\n",
              "    <div id=\"df-ce84623d-3028-4a07-bf5d-f52017f4275d\">\n",
              "      <button class=\"colab-df-quickchart\" onclick=\"quickchart('df-ce84623d-3028-4a07-bf5d-f52017f4275d')\"\n",
              "                title=\"Suggest charts\"\n",
              "                style=\"display:none;\">\n",
              "\n",
              "<svg xmlns=\"http://www.w3.org/2000/svg\" height=\"24px\"viewBox=\"0 0 24 24\"\n",
              "     width=\"24px\">\n",
              "    <g>\n",
              "        <path d=\"M19 3H5c-1.1 0-2 .9-2 2v14c0 1.1.9 2 2 2h14c1.1 0 2-.9 2-2V5c0-1.1-.9-2-2-2zM9 17H7v-7h2v7zm4 0h-2V7h2v10zm4 0h-2v-4h2v4z\"/>\n",
              "    </g>\n",
              "</svg>\n",
              "      </button>\n",
              "\n",
              "<style>\n",
              "  .colab-df-quickchart {\n",
              "      --bg-color: #E8F0FE;\n",
              "      --fill-color: #1967D2;\n",
              "      --hover-bg-color: #E2EBFA;\n",
              "      --hover-fill-color: #174EA6;\n",
              "      --disabled-fill-color: #AAA;\n",
              "      --disabled-bg-color: #DDD;\n",
              "  }\n",
              "\n",
              "  [theme=dark] .colab-df-quickchart {\n",
              "      --bg-color: #3B4455;\n",
              "      --fill-color: #D2E3FC;\n",
              "      --hover-bg-color: #434B5C;\n",
              "      --hover-fill-color: #FFFFFF;\n",
              "      --disabled-bg-color: #3B4455;\n",
              "      --disabled-fill-color: #666;\n",
              "  }\n",
              "\n",
              "  .colab-df-quickchart {\n",
              "    background-color: var(--bg-color);\n",
              "    border: none;\n",
              "    border-radius: 50%;\n",
              "    cursor: pointer;\n",
              "    display: none;\n",
              "    fill: var(--fill-color);\n",
              "    height: 32px;\n",
              "    padding: 0;\n",
              "    width: 32px;\n",
              "  }\n",
              "\n",
              "  .colab-df-quickchart:hover {\n",
              "    background-color: var(--hover-bg-color);\n",
              "    box-shadow: 0 1px 2px rgba(60, 64, 67, 0.3), 0 1px 3px 1px rgba(60, 64, 67, 0.15);\n",
              "    fill: var(--button-hover-fill-color);\n",
              "  }\n",
              "\n",
              "  .colab-df-quickchart-complete:disabled,\n",
              "  .colab-df-quickchart-complete:disabled:hover {\n",
              "    background-color: var(--disabled-bg-color);\n",
              "    fill: var(--disabled-fill-color);\n",
              "    box-shadow: none;\n",
              "  }\n",
              "\n",
              "  .colab-df-spinner {\n",
              "    border: 2px solid var(--fill-color);\n",
              "    border-color: transparent;\n",
              "    border-bottom-color: var(--fill-color);\n",
              "    animation:\n",
              "      spin 1s steps(1) infinite;\n",
              "  }\n",
              "\n",
              "  @keyframes spin {\n",
              "    0% {\n",
              "      border-color: transparent;\n",
              "      border-bottom-color: var(--fill-color);\n",
              "      border-left-color: var(--fill-color);\n",
              "    }\n",
              "    20% {\n",
              "      border-color: transparent;\n",
              "      border-left-color: var(--fill-color);\n",
              "      border-top-color: var(--fill-color);\n",
              "    }\n",
              "    30% {\n",
              "      border-color: transparent;\n",
              "      border-left-color: var(--fill-color);\n",
              "      border-top-color: var(--fill-color);\n",
              "      border-right-color: var(--fill-color);\n",
              "    }\n",
              "    40% {\n",
              "      border-color: transparent;\n",
              "      border-right-color: var(--fill-color);\n",
              "      border-top-color: var(--fill-color);\n",
              "    }\n",
              "    60% {\n",
              "      border-color: transparent;\n",
              "      border-right-color: var(--fill-color);\n",
              "    }\n",
              "    80% {\n",
              "      border-color: transparent;\n",
              "      border-right-color: var(--fill-color);\n",
              "      border-bottom-color: var(--fill-color);\n",
              "    }\n",
              "    90% {\n",
              "      border-color: transparent;\n",
              "      border-bottom-color: var(--fill-color);\n",
              "    }\n",
              "  }\n",
              "</style>\n",
              "\n",
              "      <script>\n",
              "        async function quickchart(key) {\n",
              "          const quickchartButtonEl =\n",
              "            document.querySelector('#' + key + ' button');\n",
              "          quickchartButtonEl.disabled = true;  // To prevent multiple clicks.\n",
              "          quickchartButtonEl.classList.add('colab-df-spinner');\n",
              "          try {\n",
              "            const charts = await google.colab.kernel.invokeFunction(\n",
              "                'suggestCharts', [key], {});\n",
              "          } catch (error) {\n",
              "            console.error('Error during call to suggestCharts:', error);\n",
              "          }\n",
              "          quickchartButtonEl.classList.remove('colab-df-spinner');\n",
              "          quickchartButtonEl.classList.add('colab-df-quickchart-complete');\n",
              "        }\n",
              "        (() => {\n",
              "          let quickchartButtonEl =\n",
              "            document.querySelector('#df-ce84623d-3028-4a07-bf5d-f52017f4275d button');\n",
              "          quickchartButtonEl.style.display =\n",
              "            google.colab.kernel.accessAllowed ? 'block' : 'none';\n",
              "        })();\n",
              "      </script>\n",
              "    </div>\n",
              "\n",
              "    </div>\n",
              "  </div>\n"
            ],
            "application/vnd.google.colaboratory.intrinsic+json": {
              "type": "dataframe",
              "variable_name": "df"
            }
          },
          "metadata": {},
          "execution_count": 4
        }
      ]
    },
    {
      "cell_type": "markdown",
      "source": [
        "## Quick Summary of Columns & Target"
      ],
      "metadata": {
        "id": "rDKzMMESG6Ev"
      }
    },
    {
      "cell_type": "code",
      "source": [
        "# Check data types and missing values\n",
        "df.info()\n",
        "\n",
        "# Summary of target variable\n",
        "df['Financial_Impact_USD'].describe()\n",
        "\n",
        "# Check how many 0s in target\n",
        "print(\"Zero financial impact rows:\", (df['Financial_Impact_USD'] == 0).sum())"
      ],
      "metadata": {
        "colab": {
          "base_uri": "https://localhost:8080/"
        },
        "id": "1QLNXbAf_JDw",
        "outputId": "b1fc9e4c-ec9f-45af-adfe-1944e715743e"
      },
      "execution_count": 5,
      "outputs": [
        {
          "output_type": "stream",
          "name": "stdout",
          "text": [
            "<class 'pandas.core.frame.DataFrame'>\n",
            "RangeIndex: 1010 entries, 0 to 1009\n",
            "Data columns (total 79 columns):\n",
            " #   Column                             Non-Null Count  Dtype  \n",
            "---  ------                             --------------  -----  \n",
            " 0   Engine_Supplier_Region             1010 non-null   object \n",
            " 1   Engine_Supplier_Reliability        1010 non-null   float64\n",
            " 2   Engine_Transport_Mode              1010 non-null   object \n",
            " 3   Is_Critical_Engine                 1010 non-null   int64  \n",
            " 4   Transmission_Supplier_Region       1010 non-null   object \n",
            " 5   Transmission_Supplier_Reliability  1010 non-null   float64\n",
            " 6   Transmission_Transport_Mode        1010 non-null   object \n",
            " 7   Is_Critical_Transmission           1010 non-null   int64  \n",
            " 8   Brake_System_Supplier_Region       1010 non-null   object \n",
            " 9   Brake_System_Supplier_Reliability  1010 non-null   float64\n",
            " 10  Brake_System_Transport_Mode        1010 non-null   object \n",
            " 11  Is_Critical_Brake_System           1010 non-null   int64  \n",
            " 12  Suspension_Supplier_Region         1010 non-null   object \n",
            " 13  Suspension_Supplier_Reliability    1010 non-null   float64\n",
            " 14  Suspension_Transport_Mode          1010 non-null   object \n",
            " 15  Is_Critical_Suspension             1010 non-null   int64  \n",
            " 16  Infotainment_Supplier_Region       1010 non-null   object \n",
            " 17  Infotainment_Supplier_Reliability  1010 non-null   float64\n",
            " 18  Infotainment_Transport_Mode        1010 non-null   object \n",
            " 19  Is_Critical_Infotainment           1010 non-null   int64  \n",
            " 20  Financial_Impact_USD               1010 non-null   float64\n",
            " 21  Engine_Delayed_Flag                1010 non-null   int64  \n",
            " 22  Transmission_Delayed_Flag          1010 non-null   int64  \n",
            " 23  Brake_System_Delayed_Flag          1010 non-null   int64  \n",
            " 24  Suspension_Delayed_Flag            1010 non-null   int64  \n",
            " 25  Infotainment_Delayed_Flag          1010 non-null   int64  \n",
            " 26  Any_Critical_Part_Delayed          1010 non-null   int64  \n",
            " 27  Order_Urgency                      1010 non-null   object \n",
            " 28  Holiday_Proximity                  1010 non-null   int64  \n",
            " 29  Weather_Condition_On_Delivery      1010 non-null   object \n",
            " 30  Strike_Notice                      1010 non-null   int64  \n",
            " 31  Production_Shift                   1010 non-null   object \n",
            " 32  Total_Parts_Delayed                1010 non-null   int64  \n",
            " 33  Route_Type                         1010 non-null   object \n",
            " 34  Distance_KM                        1010 non-null   float64\n",
            " 35  Traffic_Level                      1010 non-null   object \n",
            " 36  Supplier_Performance_Score         1010 non-null   float64\n",
            " 37  Contract_Penalty_Per_Day           1010 non-null   int64  \n",
            " 38  Engine_Supplier_Group              1010 non-null   object \n",
            " 39  Transmission_Supplier_Group        1010 non-null   object \n",
            " 40  Brake_System_Supplier_Group        1010 non-null   object \n",
            " 41  Suspension_Supplier_Group          1010 non-null   object \n",
            " 42  Infotainment_Supplier_Group        1010 non-null   object \n",
            " 43  Engine_Reliability_Score           1010 non-null   float64\n",
            " 44  Transmission_Reliability_Score     1010 non-null   float64\n",
            " 45  Brake_System_Reliability_Score     1010 non-null   float64\n",
            " 46  Suspension_Reliability_Score       1010 non-null   float64\n",
            " 47  Infotainment_Reliability_Score     1010 non-null   float64\n",
            " 48  Traffic_Severity_Index             1010 non-null   float64\n",
            " 49  Month_Scheduled                    1010 non-null   int64  \n",
            " 50  Quarter_Scheduled                  1010 non-null   int64  \n",
            " 51  Sum_Critical_Parts_Delayed         1010 non-null   int64  \n",
            " 52  Total_Critical_Parts               1010 non-null   int64  \n",
            " 53  Non_Critical_Parts_Delayed_Count   1010 non-null   int64  \n",
            " 54  Critical_Parts_Ratio               1010 non-null   float64\n",
            " 55  Order_Urgency_Num                  0 non-null      float64\n",
            " 56  Delay_Per_Urgency                  0 non-null      float64\n",
            " 57  Non_Critical_Parts_Delayed_Ratio   1010 non-null   float64\n",
            " 58  Total_Delayed_Ratio                1010 non-null   float64\n",
            " 59  Reliability_Gap_Engine_Trans       1010 non-null   float64\n",
            " 60  Reliability_Gap_Brake_Susp         1010 non-null   float64\n",
            " 61  Eng_Reliability_x_Delay            1010 non-null   float64\n",
            " 62  Trans_Reliability_x_Delay          1010 non-null   float64\n",
            " 63  Brake_Reliability_x_Delay          1010 non-null   float64\n",
            " 64  Susp_Reliability_x_Delay           1010 non-null   float64\n",
            " 65  Info_Reliability_x_Delay           1010 non-null   float64\n",
            " 66  Critical_Engine_x_Delay            1010 non-null   int64  \n",
            " 67  Critical_Trans_x_Delay             1010 non-null   int64  \n",
            " 68  Critical_Brake_x_Delay             1010 non-null   int64  \n",
            " 69  Critical_Susp_x_Delay              1010 non-null   int64  \n",
            " 70  Critical_Info_x_Delay              1010 non-null   int64  \n",
            " 71  Urgency_x_TotalDelayed             990 non-null    object \n",
            " 72  Holiday_x_CriticalDelay            1010 non-null   int64  \n",
            " 73  Strike_x_TotalDelayed              1010 non-null   int64  \n",
            " 74  Weather_x_TotalDelayed             990 non-null    object \n",
            " 75  Is_Any_Part_Delayed                1010 non-null   int64  \n",
            " 76  All_Parts_On_Time                  1010 non-null   int64  \n",
            " 77  All_Critical_Parts_On_Time         1010 non-null   int64  \n",
            " 78  Financial_Impact_Log               1010 non-null   float64\n",
            "dtypes: float64(27), int64(30), object(22)\n",
            "memory usage: 623.5+ KB\n",
            "Zero financial impact rows: 357\n"
          ]
        }
      ]
    },
    {
      "cell_type": "markdown",
      "source": [
        "## Visualize Target Distribution"
      ],
      "metadata": {
        "id": "VLgeQB9JG-Ja"
      }
    },
    {
      "cell_type": "code",
      "source": [
        "# Distribution of target\n",
        "plt.figure(figsize=(8,5))\n",
        "sns.histplot(df['Financial_Impact_USD'], bins=50, kde=True)\n",
        "plt.title(\"Distribution of Financial Impact (USD)\")\n",
        "plt.xlabel(\"Financial Impact\")\n",
        "plt.ylabel(\"Frequency\")\n",
        "plt.show()"
      ],
      "metadata": {
        "colab": {
          "base_uri": "https://localhost:8080/",
          "height": 487
        },
        "id": "F3xGpaJO_MO6",
        "outputId": "06516842-6bf8-4730-d423-38972a5eeb1b"
      },
      "execution_count": 6,
      "outputs": [
        {
          "output_type": "display_data",
          "data": {
            "text/plain": [
              "<Figure size 800x500 with 1 Axes>"
            ],
            "image/png": "[encoded data removed]"
          },
          "metadata": {}
        }
      ]
    },
    {
      "cell_type": "markdown",
      "source": [
        "Shows skewness and confirms need for log transform due to right skew (heavy tail). We did the log transformation in the feature engineering notebook, as Finacial_Impact_Log Column."
      ],
      "metadata": {
        "id": "Cwqd-JjGS5Sr"
      }
    },
    {
      "cell_type": "markdown",
      "source": [
        "## Handle Missing Values"
      ],
      "metadata": {
        "id": "MqOJuyrJHCsl"
      }
    },
    {
      "cell_type": "code",
      "source": [
        "# Check missing values\n",
        "missing = df.isnull().sum()\n",
        "missing[missing > 0].sort_values(ascending=False)"
      ],
      "metadata": {
        "colab": {
          "base_uri": "https://localhost:8080/",
          "height": 210
        },
        "id": "KQXHr0Bb_Oad",
        "outputId": "c0b10781-7c61-4111-ad7a-f1e450c8b572"
      },
      "execution_count": 7,
      "outputs": [
        {
          "output_type": "execute_result",
          "data": {
            "text/plain": [
              "Order_Urgency_Num         1010\n",
              "Delay_Per_Urgency         1010\n",
              "Urgency_x_TotalDelayed      20\n",
              "Weather_x_TotalDelayed      20\n",
              "dtype: int64"
            ],
            "text/html": [
              "<div>\n",
              "<style scoped>\n",
              "    .dataframe tbody tr th:only-of-type {\n",
              "        vertical-align: middle;\n",
              "    }\n",
              "\n",
              "    .dataframe tbody tr th {\n",
              "        vertical-align: top;\n",
              "    }\n",
              "\n",
              "    .dataframe thead th {\n",
              "        text-align: right;\n",
              "    }\n",
              "</style>\n",
              "<table border=\"1\" class=\"dataframe\">\n",
              "  <thead>\n",
              "    <tr style=\"text-align: right;\">\n",
              "      <th></th>\n",
              "      <th>0</th>\n",
              "    </tr>\n",
              "  </thead>\n",
              "  <tbody>\n",
              "    <tr>\n",
              "      <th>Order_Urgency_Num</th>\n",
              "      <td>1010</td>\n",
              "    </tr>\n",
              "    <tr>\n",
              "      <th>Delay_Per_Urgency</th>\n",
              "      <td>1010</td>\n",
              "    </tr>\n",
              "    <tr>\n",
              "      <th>Urgency_x_TotalDelayed</th>\n",
              "      <td>20</td>\n",
              "    </tr>\n",
              "    <tr>\n",
              "      <th>Weather_x_TotalDelayed</th>\n",
              "      <td>20</td>\n",
              "    </tr>\n",
              "  </tbody>\n",
              "</table>\n",
              "</div><br><label><b>dtype:</b> int64</label>"
            ]
          },
          "metadata": {},
          "execution_count": 7
        }
      ]
    },
    {
      "cell_type": "code",
      "source": [
        "# Drop completely empty columns\n",
        "df.drop(columns=['Order_Urgency_Num', 'Delay_Per_Urgency'], inplace=True)\n",
        "\n",
        "\n",
        "# Fill specific ratios with 0 (no delays = 0% ratio)\n",
        "fill_zero_cols = ['Non_Critical_Parts_Delayed_Ratio', 'Urgency_x_TotalDelayed',\n",
        "                  'Weather_x_TotalDelayed', 'Critical_Parts_Ratio']\n",
        "\n",
        "df[fill_zero_cols] = df[fill_zero_cols].fillna(0)"
      ],
      "metadata": {
        "id": "QSHTR0WS_Q0G"
      },
      "execution_count": 8,
      "outputs": []
    },
    {
      "cell_type": "code",
      "source": [
        "# Confirm cleanup\n",
        "print(\"Missing values after cleaning:\\n\", df.isnull().sum().sum())"
      ],
      "metadata": {
        "colab": {
          "base_uri": "https://localhost:8080/"
        },
        "id": "MhAwDam7_UcI",
        "outputId": "27188c0c-a28c-4edd-ea02-45d140e111de"
      },
      "execution_count": 9,
      "outputs": [
        {
          "output_type": "stream",
          "name": "stdout",
          "text": [
            "Missing values after cleaning:\n",
            " 0\n"
          ]
        }
      ]
    },
    {
      "cell_type": "markdown",
      "source": [
        "## Define Target and Features"
      ],
      "metadata": {
        "id": "yeuNw3xsHIhc"
      }
    },
    {
      "cell_type": "code",
      "source": [
        "# Define target and input features\n",
        "y = df['Financial_Impact_Log'] # Log-transformed target to reduce skewness\n",
        "X = df.drop(columns=['Financial_Impact_USD', 'Financial_Impact_Log']) # Features"
      ],
      "metadata": {
        "id": "659ZJENlB-Bx"
      },
      "execution_count": 10,
      "outputs": []
    },
    {
      "cell_type": "markdown",
      "source": [
        "## Understand Feature Types"
      ],
      "metadata": {
        "id": "KTpVmxm-HNBd"
      }
    },
    {
      "cell_type": "code",
      "source": [
        "# Step: Classify columns properly\n",
        "categorical_cols = X.select_dtypes(include=['object']).columns.tolist()\n",
        "numerical_cols = X.select_dtypes(include=['int64', 'float64']).columns.tolist()\n",
        "\n",
        "print(\"Categorical columns:\\n\", categorical_cols)\n",
        "print(\"\\nNumerical columns:\\n\", numerical_cols)"
      ],
      "metadata": {
        "colab": {
          "base_uri": "https://localhost:8080/"
        },
        "id": "L7I3F-ztCUSA",
        "outputId": "31e1f8d5-f93d-4228-b7d8-6cd256180490"
      },
      "execution_count": 11,
      "outputs": [
        {
          "output_type": "stream",
          "name": "stdout",
          "text": [
            "Categorical columns:\n",
            " ['Engine_Supplier_Region', 'Engine_Transport_Mode', 'Transmission_Supplier_Region', 'Transmission_Transport_Mode', 'Brake_System_Supplier_Region', 'Brake_System_Transport_Mode', 'Suspension_Supplier_Region', 'Suspension_Transport_Mode', 'Infotainment_Supplier_Region', 'Infotainment_Transport_Mode', 'Order_Urgency', 'Weather_Condition_On_Delivery', 'Production_Shift', 'Route_Type', 'Traffic_Level', 'Engine_Supplier_Group', 'Transmission_Supplier_Group', 'Brake_System_Supplier_Group', 'Suspension_Supplier_Group', 'Infotainment_Supplier_Group', 'Urgency_x_TotalDelayed', 'Weather_x_TotalDelayed']\n",
            "\n",
            "Numerical columns:\n",
            " ['Engine_Supplier_Reliability', 'Is_Critical_Engine', 'Transmission_Supplier_Reliability', 'Is_Critical_Transmission', 'Brake_System_Supplier_Reliability', 'Is_Critical_Brake_System', 'Suspension_Supplier_Reliability', 'Is_Critical_Suspension', 'Infotainment_Supplier_Reliability', 'Is_Critical_Infotainment', 'Engine_Delayed_Flag', 'Transmission_Delayed_Flag', 'Brake_System_Delayed_Flag', 'Suspension_Delayed_Flag', 'Infotainment_Delayed_Flag', 'Any_Critical_Part_Delayed', 'Holiday_Proximity', 'Strike_Notice', 'Total_Parts_Delayed', 'Distance_KM', 'Supplier_Performance_Score', 'Contract_Penalty_Per_Day', 'Engine_Reliability_Score', 'Transmission_Reliability_Score', 'Brake_System_Reliability_Score', 'Suspension_Reliability_Score', 'Infotainment_Reliability_Score', 'Traffic_Severity_Index', 'Month_Scheduled', 'Quarter_Scheduled', 'Sum_Critical_Parts_Delayed', 'Total_Critical_Parts', 'Non_Critical_Parts_Delayed_Count', 'Critical_Parts_Ratio', 'Non_Critical_Parts_Delayed_Ratio', 'Total_Delayed_Ratio', 'Reliability_Gap_Engine_Trans', 'Reliability_Gap_Brake_Susp', 'Eng_Reliability_x_Delay', 'Trans_Reliability_x_Delay', 'Brake_Reliability_x_Delay', 'Susp_Reliability_x_Delay', 'Info_Reliability_x_Delay', 'Critical_Engine_x_Delay', 'Critical_Trans_x_Delay', 'Critical_Brake_x_Delay', 'Critical_Susp_x_Delay', 'Critical_Info_x_Delay', 'Holiday_x_CriticalDelay', 'Strike_x_TotalDelayed', 'Is_Any_Part_Delayed', 'All_Parts_On_Time', 'All_Critical_Parts_On_Time']\n"
          ]
        }
      ]
    },
    {
      "cell_type": "markdown",
      "source": [
        "Categorical and numerical columns are treated differently during modeling. Tree-based models like CatBoost handle categoricals natively, while others may require encoding."
      ],
      "metadata": {
        "id": "k4WMaZZcHeLo"
      }
    },
    {
      "cell_type": "markdown",
      "source": [
        "## Split the Dataset for Training and Testing"
      ],
      "metadata": {
        "id": "cVqyWMjZHVEl"
      }
    },
    {
      "cell_type": "code",
      "source": [
        "# Use 80% for training, 20% for testing\n",
        "X_train, X_test, y_train, y_test = train_test_split(X, y, test_size=0.2, random_state=42)\n",
        "\n",
        "print(\"Training data shape:\", X_train.shape)\n",
        "print(\"Testing data shape:\", X_test.shape)"
      ],
      "metadata": {
        "colab": {
          "base_uri": "https://localhost:8080/"
        },
        "id": "wS82tOryCX_g",
        "outputId": "05237a1d-89b5-445a-8c7b-d7cb04f60d6e"
      },
      "execution_count": 12,
      "outputs": [
        {
          "output_type": "stream",
          "name": "stdout",
          "text": [
            "Training data shape: (808, 75)\n",
            "Testing data shape: (202, 75)\n"
          ]
        }
      ]
    },
    {
      "cell_type": "markdown",
      "source": [
        "Train-Test Split Rationale:\n",
        "\n",
        "80/20 split is standard.\n",
        "\n",
        "random_state=42 ensures reproducibility."
      ],
      "metadata": {
        "id": "H4mcntnOHiya"
      }
    },
    {
      "cell_type": "markdown",
      "source": [
        "##Categorical Encoding + Feature Scaling"
      ],
      "metadata": {
        "id": "ZbKpeNWDHmwE"
      }
    },
    {
      "cell_type": "code",
      "source": [
        "# Encode categorical features using one-hot encoding\n",
        "X_train_encoded = pd.get_dummies(X_train, columns=categorical_cols, drop_first=True)\n",
        "X_test_encoded = pd.get_dummies(X_test, columns=categorical_cols, drop_first=True)\n",
        "\n",
        "# Align columns (ensure train & test have same feature set)\n",
        "X_train_encoded, X_test_encoded = X_train_encoded.align(X_test_encoded, join='left', axis=1, fill_value=0)"
      ],
      "metadata": {
        "id": "nDwgef6CCbLV"
      },
      "execution_count": 13,
      "outputs": []
    },
    {
      "cell_type": "markdown",
      "source": [
        "One-hot encoding is used here; drop_first=True avoids dummy variable trap. Aligning ensures test data has same columns as training."
      ],
      "metadata": {
        "id": "DOArOmR2TPlD"
      }
    },
    {
      "cell_type": "code",
      "source": [
        "# Standardize numerical features\n",
        "scaler = StandardScaler()\n",
        "X_train_encoded[numerical_cols] = scaler.fit_transform(X_train_encoded[numerical_cols])\n",
        "X_test_encoded[numerical_cols] = scaler.transform(X_test_encoded[numerical_cols])"
      ],
      "metadata": {
        "id": "44vSYNs4CePy"
      },
      "execution_count": 14,
      "outputs": []
    },
    {
      "cell_type": "markdown",
      "source": [
        "Why this is important:\n",
        "\n",
        "- Prevents data leakage during encoding.\n",
        "\n",
        "- Scaling improves convergence for some algorithms (like linear models).\n",
        "\n",
        "- Aligning keeps feature sets consistent."
      ],
      "metadata": {
        "id": "55oNLuKMHrF5"
      }
    },
    {
      "cell_type": "markdown",
      "source": [
        "## Train Random Forest (All Features)"
      ],
      "metadata": {
        "id": "r0XsrbyIKgNV"
      }
    },
    {
      "cell_type": "code",
      "source": [
        "# Train model\n",
        "rf_model = RandomForestRegressor(n_estimators=100, random_state=42)\n",
        "rf_model.fit(X_train_encoded, y_train)\n",
        "\n",
        "# Predict\n",
        "y_pred_log = rf_model.predict(X_test_encoded)\n",
        "\n",
        "# Inverse transform predictions and true values from log scale back to USD scale\n",
        "y_test_usd = np.expm1(y_test)\n",
        "y_pred_usd = np.expm1(y_pred_log)\n",
        "\n",
        "# Evaluate on USD scale\n",
        "mae = mean_absolute_error(y_test_usd, y_pred_usd)\n",
        "rmse = np.sqrt(mean_squared_error(y_test_usd, y_pred_usd))\n",
        "r2 = r2_score(y_test_usd, y_pred_usd)\n",
        "\n",
        "print(f\"Random Forest MAE (USD): {mae:.2f}\")\n",
        "print(f\"Random Forest RMSE (USD): {rmse:.2f}\")\n",
        "print(f\"Random Forest R² Score: {r2:.4f}\")\n"
      ],
      "metadata": {
        "colab": {
          "base_uri": "https://localhost:8080/"
        },
        "id": "B-Q-cYQpCwfs",
        "outputId": "99ebb631-8793-4183-98a6-7c7874a7ce93"
      },
      "execution_count": 15,
      "outputs": [
        {
          "output_type": "stream",
          "name": "stdout",
          "text": [
            "Random Forest MAE (USD): 448.79\n",
            "Random Forest RMSE (USD): 675.10\n",
            "Random Forest R² Score: 0.7222\n"
          ]
        }
      ]
    },
    {
      "cell_type": "markdown",
      "source": [
        "Results:\n",
        "MAE:- mean average prediction error is $449 USD on financial impact.\n",
        "\n",
        "RMSE:- $675 indicates typical prediction error magnitude.\n",
        "\n",
        "R²:-  0.72 means model explains 72% of variance, which is decent for real-world data."
      ],
      "metadata": {
        "id": "jfwQ4f5CTV_N"
      }
    },
    {
      "cell_type": "markdown",
      "source": [
        "This uses all features, which is good baseline, but later we will try to improve with feature selection."
      ],
      "metadata": {
        "id": "3D-SDib-KkZz"
      }
    },
    {
      "cell_type": "markdown",
      "source": [
        "## Visualize the Feature Importances"
      ],
      "metadata": {
        "id": "2GqjxZQgOi5x"
      }
    },
    {
      "cell_type": "code",
      "source": [
        "# Get feature importances and match with feature names\n",
        "feature_importances = rf_model.feature_importances_\n",
        "feature_names = X_train_encoded.columns\n",
        "\n",
        "# Create a DataFrame for easier sorting and plotting\n",
        "importance_df = pd.DataFrame({\n",
        "    'Feature': feature_names,\n",
        "    'Importance': feature_importances\n",
        "})\n",
        "\n",
        "# Sort and select top 10\n",
        "top_10 = importance_df.sort_values(by='Importance', ascending=False).head(10)\n",
        "\n",
        "# Plot\n",
        "plt.figure(figsize=(10, 6))\n",
        "sns.barplot(x='Importance', y='Feature', data=top_10, palette='viridis')\n",
        "plt.title('Top 10 Important Features - Random Forest')\n",
        "plt.xlabel('Feature Importance')\n",
        "plt.ylabel('Feature')\n",
        "plt.tight_layout()\n",
        "plt.show()"
      ],
      "metadata": {
        "colab": {
          "base_uri": "https://localhost:8080/",
          "height": 632
        },
        "id": "TbaqmDmMOgcw",
        "outputId": "4f775d66-48a3-4382-f2d3-15e3f6ba45f7"
      },
      "execution_count": 16,
      "outputs": [
        {
          "output_type": "stream",
          "name": "stderr",
          "text": [
            "/tmp/ipython-input-16-1632118369.py:16: FutureWarning: \n",
            "\n",
            "Passing `palette` without assigning `hue` is deprecated and will be removed in v0.14.0. Assign the `y` variable to `hue` and set `legend=False` for the same effect.\n",
            "\n",
            "  sns.barplot(x='Importance', y='Feature', data=top_10, palette='viridis')\n"
          ]
        },
        {
          "output_type": "display_data",
          "data": {
            "text/plain": [
              "<Figure size 1000x600 with 1 Axes>"
            ],
            "image/png": "[encoded data removed]"
          },
          "metadata": {}
        }
      ]
    },
    {
      "cell_type": "markdown",
      "source": [
        "Plots top 10 features driving model predictions — helps decide which features to keep."
      ],
      "metadata": {
        "id": "6cR125avTreu"
      }
    },
    {
      "cell_type": "markdown",
      "source": [
        "## Random Forest on Top 10 Features (All Numeric)"
      ],
      "metadata": {
        "id": "n-t8YuBMR6M4"
      }
    },
    {
      "cell_type": "code",
      "source": [
        "# Selecting top 10 features\n",
        "top_10_features = ['Supplier_Performance_Score', 'Distance_KM', 'Brake_System_Supplier_Reliability',\n",
        "    'Sum_Critical_Parts_Delayed', 'Engine_Supplier_Reliability', 'Traffic_Severity_Index',\n",
        "    'Critical_Parts_Ratio', 'Reliability_Gap_Brake_Susp', 'Suspension_Supplier_Reliability',\n",
        "    'Transmission_Supplier_Reliability']\n",
        "\n",
        "# Analyzing Features And Target\n",
        "X_top10 = df[top_10_features]\n",
        "y = df['Financial_Impact_Log']\n",
        "\n",
        "# Train Test Split\n",
        "X_train, X_test, y_train, y_test = train_test_split(X_top10, y, test_size=0.2, random_state=42)\n",
        "\n",
        "# Scale numeric features\n",
        "scaler = StandardScaler()\n",
        "X_train_scaled = scaler.fit_transform(X_train)\n",
        "X_test_scaled = scaler.transform(X_test)\n",
        "\n",
        "# Training Random Forest model\n",
        "rf_top10 = RandomForestRegressor(n_estimators=100, random_state=42)\n",
        "rf_top10.fit(X_train_scaled, y_train)\n",
        "\n",
        "# Predict on test set (log scale)\n",
        "y_pred_log = rf_top10.predict(X_test_scaled)\n",
        "\n",
        "# Convert predictions and actuals back to USD\n",
        "y_test_usd = np.expm1(y_test)\n",
        "y_pred_usd = np.expm1(y_pred_log)\n",
        "\n",
        "# Evaluation\n",
        "mae = mean_absolute_error(y_test_usd, y_pred_usd)\n",
        "rmse = np.sqrt(mean_squared_error(y_test_usd, y_pred_usd))\n",
        "r2 = r2_score(y_test_usd, y_pred_usd)\n",
        "\n",
        "print(f\"Random Forest (Top 10 features) MAE (USD): {mae:.2f}\")\n",
        "print(f\"Random Forest (Top 10 features) RMSE (USD): {rmse:.2f}\")\n",
        "print(f\"Random Forest (Top 10 features) R² Score: {r2:.4f}\")\n"
      ],
      "metadata": {
        "colab": {
          "base_uri": "https://localhost:8080/"
        },
        "id": "vZGLNl7XD4tw",
        "outputId": "7915d2af-a71f-4db9-d3ea-719c947293a7"
      },
      "execution_count": 17,
      "outputs": [
        {
          "output_type": "stream",
          "name": "stdout",
          "text": [
            "Random Forest (Top 10 features) MAE (USD): 452.94\n",
            "Random Forest (Top 10 features) RMSE (USD): 675.38\n",
            "Random Forest (Top 10 features) R² Score: 0.7220\n"
          ]
        }
      ]
    },
    {
      "cell_type": "markdown",
      "source": [
        "Results:\n",
        "\n",
        "- MAE: $453 (slightly higher than full model)\n",
        "\n",
        "- RMSE: $675 (similar)\n",
        "\n",
        "- R²: 0.7220 (almost same)\n",
        "\n",
        "Analysis:\n",
        "Model performs nearly as well with just 10 features, indicating possible simplification."
      ],
      "metadata": {
        "id": "xKBBjg_wUCXa"
      }
    },
    {
      "cell_type": "markdown",
      "source": [
        "## Random Forest on Top 5 Features (All Numeric)"
      ],
      "metadata": {
        "id": "YVWp3v4PR9CE"
      }
    },
    {
      "cell_type": "code",
      "source": [
        "# Selecting top 5 features\n",
        "top_5_features = ['Supplier_Performance_Score', 'Distance_KM', 'Brake_System_Supplier_Reliability','Sum_Critical_Parts_Delayed', 'Engine_Supplier_Reliability']\n",
        "\n",
        "# Analyzing Features And Target\n",
        "X_top5 = df[top_5_features]\n",
        "y = df['Financial_Impact_Log']\n",
        "\n",
        "# Split the data into train and test\n",
        "X_train, X_test, y_train, y_test = train_test_split(\n",
        "    X_top5, y, test_size=0.2, random_state=42)\n",
        "\n",
        "# Scale numeric features\n",
        "scaler = StandardScaler()\n",
        "X_train_scaled = scaler.fit_transform(X_train)\n",
        "X_test_scaled = scaler.transform(X_test)\n",
        "\n",
        "# Training Random Forest model\n",
        "rf_top5 = RandomForestRegressor(n_estimators=100, random_state=42)\n",
        "rf_top5.fit(X_train_scaled, y_train)\n",
        "\n",
        "# Predict on test set (log scale)\n",
        "y_pred_log = rf_top5.predict(X_test_scaled)\n",
        "\n",
        "# Convert predictions and actuals back to USD\n",
        "y_test_usd = np.expm1(y_test)\n",
        "y_pred_usd = np.expm1(y_pred_log)\n",
        "\n",
        "# Evaluation\n",
        "mae = mean_absolute_error(y_test_usd, y_pred_usd)\n",
        "rmse = np.sqrt(mean_squared_error(y_test_usd, y_pred_usd))\n",
        "r2 = r2_score(y_test_usd, y_pred_usd)\n",
        "\n",
        "print(f\"Random Forest (Top 5 features) MAE (USD): {mae:.2f}\")\n",
        "print(f\"Random Forest (Top 5 features) RMSE (USD): {rmse:.2f}\")\n",
        "print(f\"Random Forest (Top 5 features) R² Score: {r2:.4f}\")\n"
      ],
      "metadata": {
        "colab": {
          "base_uri": "https://localhost:8080/"
        },
        "id": "3c0t3Z4CFXM_",
        "outputId": "47775473-2f45-425b-fcc8-77cde3fea362"
      },
      "execution_count": 21,
      "outputs": [
        {
          "output_type": "stream",
          "name": "stdout",
          "text": [
            "Random Forest (Top 5 features) MAE (USD): 445.52\n",
            "Random Forest (Top 5 features) RMSE (USD): 664.21\n",
            "Random Forest (Top 5 features) R² Score: 0.7311\n"
          ]
        }
      ]
    },
    {
      "cell_type": "markdown",
      "source": [
        "Results:\n",
        "\n",
        "- MAE: $445 (lowest error so far)\n",
        "\n",
        "- RMSE: $664 (best RMSE)\n",
        "\n",
        "- R²: 0.7311 (highest, best fit)\n",
        "\n",
        "Analysis:\n",
        "Top 5 features yield best balance of simplicity and accuracy — ideal for deployment."
      ],
      "metadata": {
        "id": "snTapSD3UZeC"
      }
    },
    {
      "cell_type": "markdown",
      "source": [
        "## Random Forest on Top 3 Features (All Numeric)"
      ],
      "metadata": {
        "id": "j_M_Rw3CR_SS"
      }
    },
    {
      "cell_type": "code",
      "source": [
        "# Selecting top 3 features\n",
        "top_3_features = ['Supplier_Performance_Score', 'Distance_KM', 'Brake_System_Supplier_Reliability']\n",
        "\n",
        "# Analyzing Features And Target\n",
        "X_top3 = df[top_3_features]\n",
        "y = df['Financial_Impact_Log']\n",
        "\n",
        "# Train Test split\n",
        "X_train, X_test, y_train, y_test = train_test_split(\n",
        "    X_top3, y, test_size=0.2, random_state=42)\n",
        "\n",
        "# Scale numeric features\n",
        "scaler = StandardScaler()\n",
        "X_train_scaled = scaler.fit_transform(X_train)\n",
        "X_test_scaled = scaler.transform(X_test)\n",
        "\n",
        "# Training Random Forest model\n",
        "rf_top3 = RandomForestRegressor(n_estimators=100, random_state=42)\n",
        "rf_top3.fit(X_train_scaled, y_train)\n",
        "\n",
        "# Predict on test set (log scale)\n",
        "y_pred_log = rf_top3.predict(X_test_scaled)\n",
        "\n",
        "# Convert predictions and actuals back to USD\n",
        "y_test_usd = np.expm1(y_test)\n",
        "y_pred_usd = np.expm1(y_pred_log)\n",
        "\n",
        "# Evaluation\n",
        "mae = mean_absolute_error(y_test_usd, y_pred_usd)\n",
        "rmse = np.sqrt(mean_squared_error(y_test_usd, y_pred_usd))\n",
        "r2 = r2_score(y_test_usd, y_pred_usd)\n",
        "\n",
        "print(f\"Random Forest (Top 3 features) MAE (USD): {mae:.2f}\")\n",
        "print(f\"Random Forest (Top 3 features) RMSE (USD): {rmse:.2f}\")\n",
        "print(f\"Random Forest (Top 3 features) R² Score: {r2:.4f}\")"
      ],
      "metadata": {
        "colab": {
          "base_uri": "https://localhost:8080/"
        },
        "id": "bKx9XMyARZk2",
        "outputId": "8aaa931c-e1ea-4dbd-d011-33a12986a73d"
      },
      "execution_count": 20,
      "outputs": [
        {
          "output_type": "stream",
          "name": "stdout",
          "text": [
            "Random Forest (Top 3 features) MAE (USD): 462.39\n",
            "Random Forest (Top 3 features) RMSE (USD): 686.96\n",
            "Random Forest (Top 3 features) R² Score: 0.7124\n"
          ]
        }
      ]
    },
    {
      "cell_type": "markdown",
      "source": [
        "Results:\n",
        "\n",
        "- MAE: $462.39\n",
        "\n",
        "- RMSE: $686.96\n",
        "\n",
        "- R²: 0.7124\n",
        "\n",
        "Analysis:\n",
        "Performance drops slightly but still reasonable with just 3 features."
      ],
      "metadata": {
        "id": "17XAmDnCUlt4"
      }
    },
    {
      "cell_type": "markdown",
      "source": [
        "| Model                           | MAE (USD) | RMSE (USD) | R² Score |\n",
        "|--------------------------------|-----------|------------|----------|\n",
        "| Random Forest (All Features)    | 448.79    | 675.10     | 0.7222   |\n",
        "| Random Forest (Top 10 Features) | 452.94    | 675.38     | 0.7220   |\n",
        "| Random Forest (Top 5 Features)  | 445.52    | 664.21     | 0.7311   |\n",
        "| Random Forest (Top 3 Features)  | 462.39    | 686.96     | 0.7124   |\n"
      ],
      "metadata": {
        "id": "RfpHKBQeU8tj"
      }
    },
    {
      "cell_type": "markdown",
      "source": [
        "The model with all features works well, but using just the top 10 features gives almost the same results. Using the top 5 features actually improves the model slightly. With only the top 3 features, the performance drops a bit. So, the best balance is the top 5 features — it’s simpler and even a bit more accurate."
      ],
      "metadata": {
        "id": "DUI5xUj3VKGy"
      }
    },
    {
      "cell_type": "code",
      "source": [
        "# Your trained model\n",
        "model_to_save = rf_top5\n",
        "\n",
        "# List of features used\n",
        "features_used = top_5_features\n",
        "\n",
        "# Save model\n",
        "joblib.dump(model_to_save, 'random_forest_top5_cost_model.pkl')\n",
        "\n",
        "# Save features list\n",
        "joblib.dump(features_used, 'random_forest_top5_cost_features.pkl')\n",
        "\n",
        "print(\"Model saved as 'random_forest_top5_cost_model.pkl'\")\n",
        "print(\"Feature list saved as 'random_forest_top5_cost_features.pkl'\")\n"
      ],
      "metadata": {
        "colab": {
          "base_uri": "https://localhost:8080/"
        },
        "id": "S5gQOufCVx_5",
        "outputId": "08a51f3c-5ec1-430a-f2a9-f2835f5073f8"
      },
      "execution_count": 24,
      "outputs": [
        {
          "output_type": "stream",
          "name": "stdout",
          "text": [
            "Model saved as 'random_forest_top5_cost_model.pkl'\n",
            "Feature list saved as 'random_forest_top5_cost_features.pkl'\n"
          ]
        }
      ]
    }
  ]
}