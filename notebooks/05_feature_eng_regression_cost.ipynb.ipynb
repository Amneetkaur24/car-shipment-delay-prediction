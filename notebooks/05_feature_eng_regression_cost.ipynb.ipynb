{
  "nbformat": 4,
  "nbformat_minor": 0,
  "metadata": {
    "colab": {
      "provenance": []
    },
    "kernelspec": {
      "name": "python3",
      "display_name": "Python 3"
    },
    "language_info": {
      "name": "python"
    }
  },
  "cells": [
    {
      "cell_type": "markdown",
      "source": [
        "# Regression Feature Engineering Notebook (Financial Impact Prediction)\n",
        "# Feature Engineering Summary for Financial Impact Regression\n",
        "\n",
        "This notebook focuses on creating meaningful features to predict the financial impact (in USD) of car shipment delays. The key steps include:\n",
        "\n",
        "- **Temporal Features:** Extracted month and quarter from the scheduled assembly date to capture seasonal and quarterly trends affecting shipment delays.\n",
        "\n",
        "- **Delay Flags:** Created binary flags indicating whether critical car parts (engine, transmission, brake system, suspension, infotainment) arrived late based on a 2-day cutoff rule before assembly.\n",
        "\n",
        "- **Aggregated Delay Metrics:** Computed total delayed parts, count of critical delayed parts, and their ratios to quantify overall delay severity and criticality.\n",
        "\n",
        "- **Interaction Features:** Engineered combined features reflecting urgency, supplier reliability gaps, and environmental factors (holidays, strikes, weather) interacting with delays.\n",
        "\n",
        "- **Leakage Control:** Dropped columns that either leak target information (e.g., delay days, car delayed flags) or are irrelevant to model training to ensure robust prediction.\n",
        "\n",
        "- **Target Transformation:** Applied log transformation on the financial impact target variable to reduce skewness and improve model stability.\n",
        "\n",
        "# Goal: Prepare dataset with relevant features to predict financial impact of car shipment delays"
      ],
      "metadata": {
        "id": "btSYVS9dR0vP"
      }
    },
    {
      "cell_type": "code",
      "execution_count": 33,
      "metadata": {
        "id": "oXs9THWNRkIA"
      },
      "outputs": [],
      "source": [
        "# Step 1: Import Required Libraries\n",
        "# We are using pandas for data manipulation and NumPy for numerical operations.\n",
        "import pandas as pd\n",
        "import numpy as np\n",
        "import matplotlib.pyplot as plt\n",
        "import seaborn as sns"
      ]
    },
    {
      "cell_type": "code",
      "source": [
        "# Step 2: Load Cleaned Dataset\n",
        "df = pd.read_csv(\"Cleaned_car_automated_dataset.csv\")\n",
        "df.head()"
      ],
      "metadata": {
        "colab": {
          "base_uri": "https://localhost:8080/",
          "height": 256
        },
        "id": "Jy3l-XiXRvrq",
        "outputId": "fa8800ba-c33d-4531-d6a6-c7441c66f29a"
      },
      "execution_count": 34,
      "outputs": [
        {
          "output_type": "execute_result",
          "data": {
            "text/plain": [
              "    Car_ID Scheduled_Assembly_Date Engine_Delivery_Date  \\\n",
              "0  CAR_942              2023-01-31           2023-01-24   \n",
              "1  CAR_546              2023-01-31           2023-01-22   \n",
              "2  CAR_465              2023-01-31           2023-01-29   \n",
              "3  CAR_807              2023-01-31           2023-02-05   \n",
              "4  CAR_286              2023-01-31           2023-01-28   \n",
              "\n",
              "  Engine_Supplier_Region  Engine_Supplier_Reliability Engine_Transport_Mode  \\\n",
              "0                   EAST                         0.76                  ROAD   \n",
              "1                  NORTH                         0.75                   SEA   \n",
              "2                   WEST                         0.74                   AIR   \n",
              "3                   EAST                         0.85                  ROAD   \n",
              "4                  SOUTH                         0.79                   AIR   \n",
              "\n",
              "   Is_Critical_Engine Transmission_Delivery_Date Transmission_Supplier_Region  \\\n",
              "0                   1                 2023-01-30                        NORTH   \n",
              "1                   1                 2023-01-24                         EAST   \n",
              "2                   0                 2023-01-28                         EAST   \n",
              "3                   0                 2023-02-03                         EAST   \n",
              "4                   0                 2023-01-31                        SOUTH   \n",
              "\n",
              "   Transmission_Supplier_Reliability  ... Transmission_Supplier_Group  \\\n",
              "0                               0.79  ...                  NORTH_ROAD   \n",
              "1                               0.98  ...                    EAST_AIR   \n",
              "2                               0.95  ...                    EAST_AIR   \n",
              "3                               0.92  ...                   EAST_ROAD   \n",
              "4                               0.79  ...                   SOUTH_SEA   \n",
              "\n",
              "   Brake_System_Supplier_Group Suspension_Supplier_Group  \\\n",
              "0                    SOUTH_SEA                  EAST_SEA   \n",
              "1                     EAST_SEA                 NORTH_AIR   \n",
              "2                     EAST_AIR                 WEST_ROAD   \n",
              "3                    NORTH_SEA                  WEST_AIR   \n",
              "4                    NORTH_AIR                SOUTH_ROAD   \n",
              "\n",
              "  Infotainment_Supplier_Group  Engine_Reliability_Score  \\\n",
              "0                  NORTH_ROAD                  0.302632   \n",
              "1                    WEST_SEA                  0.289474   \n",
              "2                    EAST_AIR                  0.346154   \n",
              "3                  NORTH_ROAD                  0.302632   \n",
              "4                    WEST_SEA                  0.270270   \n",
              "\n",
              "  Transmission_Reliability_Score  Brake_System_Reliability_Score  \\\n",
              "0                       0.329114                        0.282609   \n",
              "1                       0.328571                        0.230769   \n",
              "2                       0.328571                        0.383562   \n",
              "3                       0.279070                        0.273810   \n",
              "4                       0.300000                        0.260274   \n",
              "\n",
              "  Suspension_Reliability_Score Infotainment_Reliability_Score  \\\n",
              "0                     0.239130                       0.310345   \n",
              "1                     0.311688                       0.400000   \n",
              "2                     0.356322                       0.298851   \n",
              "3                     0.321839                       0.310345   \n",
              "4                     0.224490                       0.400000   \n",
              "\n",
              "   Traffic_Severity_Index  \n",
              "0                     1.0  \n",
              "1                     1.0  \n",
              "2                     1.0  \n",
              "3                     1.5  \n",
              "4                     1.0  \n",
              "\n",
              "[5 rows x 65 columns]"
            ],
            "text/html": [
              "\n",
              "  <div id=\"df-8b2752a1-fd39-4b28-bf2e-6cbf4dbcbedc\" class=\"colab-df-container\">\n",
              "    <div>\n",
              "<style scoped>\n",
              "    .dataframe tbody tr th:only-of-type {\n",
              "        vertical-align: middle;\n",
              "    }\n",
              "\n",
              "    .dataframe tbody tr th {\n",
              "        vertical-align: top;\n",
              "    }\n",
              "\n",
              "    .dataframe thead th {\n",
              "        text-align: right;\n",
              "    }\n",
              "</style>\n",
              "<table border=\"1\" class=\"dataframe\">\n",
              "  <thead>\n",
              "    <tr style=\"text-align: right;\">\n",
              "      <th></th>\n",
              "      <th>Car_ID</th>\n",
              "      <th>Scheduled_Assembly_Date</th>\n",
              "      <th>Engine_Delivery_Date</th>\n",
              "      <th>Engine_Supplier_Region</th>\n",
              "      <th>Engine_Supplier_Reliability</th>\n",
              "      <th>Engine_Transport_Mode</th>\n",
              "      <th>Is_Critical_Engine</th>\n",
              "      <th>Transmission_Delivery_Date</th>\n",
              "      <th>Transmission_Supplier_Region</th>\n",
              "      <th>Transmission_Supplier_Reliability</th>\n",
              "      <th>...</th>\n",
              "      <th>Transmission_Supplier_Group</th>\n",
              "      <th>Brake_System_Supplier_Group</th>\n",
              "      <th>Suspension_Supplier_Group</th>\n",
              "      <th>Infotainment_Supplier_Group</th>\n",
              "      <th>Engine_Reliability_Score</th>\n",
              "      <th>Transmission_Reliability_Score</th>\n",
              "      <th>Brake_System_Reliability_Score</th>\n",
              "      <th>Suspension_Reliability_Score</th>\n",
              "      <th>Infotainment_Reliability_Score</th>\n",
              "      <th>Traffic_Severity_Index</th>\n",
              "    </tr>\n",
              "  </thead>\n",
              "  <tbody>\n",
              "    <tr>\n",
              "      <th>0</th>\n",
              "      <td>CAR_942</td>\n",
              "      <td>2023-01-31</td>\n",
              "      <td>2023-01-24</td>\n",
              "      <td>EAST</td>\n",
              "      <td>0.76</td>\n",
              "      <td>ROAD</td>\n",
              "      <td>1</td>\n",
              "      <td>2023-01-30</td>\n",
              "      <td>NORTH</td>\n",
              "      <td>0.79</td>\n",
              "      <td>...</td>\n",
              "      <td>NORTH_ROAD</td>\n",
              "      <td>SOUTH_SEA</td>\n",
              "      <td>EAST_SEA</td>\n",
              "      <td>NORTH_ROAD</td>\n",
              "      <td>0.302632</td>\n",
              "      <td>0.329114</td>\n",
              "      <td>0.282609</td>\n",
              "      <td>0.239130</td>\n",
              "      <td>0.310345</td>\n",
              "      <td>1.0</td>\n",
              "    </tr>\n",
              "    <tr>\n",
              "      <th>1</th>\n",
              "      <td>CAR_546</td>\n",
              "      <td>2023-01-31</td>\n",
              "      <td>2023-01-22</td>\n",
              "      <td>NORTH</td>\n",
              "      <td>0.75</td>\n",
              "      <td>SEA</td>\n",
              "      <td>1</td>\n",
              "      <td>2023-01-24</td>\n",
              "      <td>EAST</td>\n",
              "      <td>0.98</td>\n",
              "      <td>...</td>\n",
              "      <td>EAST_AIR</td>\n",
              "      <td>EAST_SEA</td>\n",
              "      <td>NORTH_AIR</td>\n",
              "      <td>WEST_SEA</td>\n",
              "      <td>0.289474</td>\n",
              "      <td>0.328571</td>\n",
              "      <td>0.230769</td>\n",
              "      <td>0.311688</td>\n",
              "      <td>0.400000</td>\n",
              "      <td>1.0</td>\n",
              "    </tr>\n",
              "    <tr>\n",
              "      <th>2</th>\n",
              "      <td>CAR_465</td>\n",
              "      <td>2023-01-31</td>\n",
              "      <td>2023-01-29</td>\n",
              "      <td>WEST</td>\n",
              "      <td>0.74</td>\n",
              "      <td>AIR</td>\n",
              "      <td>0</td>\n",
              "      <td>2023-01-28</td>\n",
              "      <td>EAST</td>\n",
              "      <td>0.95</td>\n",
              "      <td>...</td>\n",
              "      <td>EAST_AIR</td>\n",
              "      <td>EAST_AIR</td>\n",
              "      <td>WEST_ROAD</td>\n",
              "      <td>EAST_AIR</td>\n",
              "      <td>0.346154</td>\n",
              "      <td>0.328571</td>\n",
              "      <td>0.383562</td>\n",
              "      <td>0.356322</td>\n",
              "      <td>0.298851</td>\n",
              "      <td>1.0</td>\n",
              "    </tr>\n",
              "    <tr>\n",
              "      <th>3</th>\n",
              "      <td>CAR_807</td>\n",
              "      <td>2023-01-31</td>\n",
              "      <td>2023-02-05</td>\n",
              "      <td>EAST</td>\n",
              "      <td>0.85</td>\n",
              "      <td>ROAD</td>\n",
              "      <td>0</td>\n",
              "      <td>2023-02-03</td>\n",
              "      <td>EAST</td>\n",
              "      <td>0.92</td>\n",
              "      <td>...</td>\n",
              "      <td>EAST_ROAD</td>\n",
              "      <td>NORTH_SEA</td>\n",
              "      <td>WEST_AIR</td>\n",
              "      <td>NORTH_ROAD</td>\n",
              "      <td>0.302632</td>\n",
              "      <td>0.279070</td>\n",
              "      <td>0.273810</td>\n",
              "      <td>0.321839</td>\n",
              "      <td>0.310345</td>\n",
              "      <td>1.5</td>\n",
              "    </tr>\n",
              "    <tr>\n",
              "      <th>4</th>\n",
              "      <td>CAR_286</td>\n",
              "      <td>2023-01-31</td>\n",
              "      <td>2023-01-28</td>\n",
              "      <td>SOUTH</td>\n",
              "      <td>0.79</td>\n",
              "      <td>AIR</td>\n",
              "      <td>0</td>\n",
              "      <td>2023-01-31</td>\n",
              "      <td>SOUTH</td>\n",
              "      <td>0.79</td>\n",
              "      <td>...</td>\n",
              "      <td>SOUTH_SEA</td>\n",
              "      <td>NORTH_AIR</td>\n",
              "      <td>SOUTH_ROAD</td>\n",
              "      <td>WEST_SEA</td>\n",
              "      <td>0.270270</td>\n",
              "      <td>0.300000</td>\n",
              "      <td>0.260274</td>\n",
              "      <td>0.224490</td>\n",
              "      <td>0.400000</td>\n",
              "      <td>1.0</td>\n",
              "    </tr>\n",
              "  </tbody>\n",
              "</table>\n",
              "<p>5 rows × 65 columns</p>\n",
              "</div>\n",
              "    <div class=\"colab-df-buttons\">\n",
              "\n",
              "  <div class=\"colab-df-container\">\n",
              "    <button class=\"colab-df-convert\" onclick=\"convertToInteractive('df-8b2752a1-fd39-4b28-bf2e-6cbf4dbcbedc')\"\n",
              "            title=\"Convert this dataframe to an interactive table.\"\n",
              "            style=\"display:none;\">\n",
              "\n",
              "  <svg xmlns=\"http://www.w3.org/2000/svg\" height=\"24px\" viewBox=\"0 -960 960 960\">\n",
              "    <path d=\"M120-120v-720h720v720H120Zm60-500h600v-160H180v160Zm220 220h160v-160H400v160Zm0 220h160v-160H400v160ZM180-400h160v-160H180v160Zm440 0h160v-160H620v160ZM180-180h160v-160H180v160Zm440 0h160v-160H620v160Z\"/>\n",
              "  </svg>\n",
              "    </button>\n",
              "\n",
              "  <style>\n",
              "    .colab-df-container {\n",
              "      display:flex;\n",
              "      gap: 12px;\n",
              "    }\n",
              "\n",
              "    .colab-df-convert {\n",
              "      background-color: #E8F0FE;\n",
              "      border: none;\n",
              "      border-radius: 50%;\n",
              "      cursor: pointer;\n",
              "      display: none;\n",
              "      fill: #1967D2;\n",
              "      height: 32px;\n",
              "      padding: 0 0 0 0;\n",
              "      width: 32px;\n",
              "    }\n",
              "\n",
              "    .colab-df-convert:hover {\n",
              "      background-color: #E2EBFA;\n",
              "      box-shadow: 0px 1px 2px rgba(60, 64, 67, 0.3), 0px 1px 3px 1px rgba(60, 64, 67, 0.15);\n",
              "      fill: #174EA6;\n",
              "    }\n",
              "\n",
              "    .colab-df-buttons div {\n",
              "      margin-bottom: 4px;\n",
              "    }\n",
              "\n",
              "    [theme=dark] .colab-df-convert {\n",
              "      background-color: #3B4455;\n",
              "      fill: #D2E3FC;\n",
              "    }\n",
              "\n",
              "    [theme=dark] .colab-df-convert:hover {\n",
              "      background-color: #434B5C;\n",
              "      box-shadow: 0px 1px 3px 1px rgba(0, 0, 0, 0.15);\n",
              "      filter: drop-shadow(0px 1px 2px rgba(0, 0, 0, 0.3));\n",
              "      fill: #FFFFFF;\n",
              "    }\n",
              "  </style>\n",
              "\n",
              "    <script>\n",
              "      const buttonEl =\n",
              "        document.querySelector('#df-8b2752a1-fd39-4b28-bf2e-6cbf4dbcbedc button.colab-df-convert');\n",
              "      buttonEl.style.display =\n",
              "        google.colab.kernel.accessAllowed ? 'block' : 'none';\n",
              "\n",
              "      async function convertToInteractive(key) {\n",
              "        const element = document.querySelector('#df-8b2752a1-fd39-4b28-bf2e-6cbf4dbcbedc');\n",
              "        const dataTable =\n",
              "          await google.colab.kernel.invokeFunction('convertToInteractive',\n",
              "                                                    [key], {});\n",
              "        if (!dataTable) return;\n",
              "\n",
              "        const docLinkHtml = 'Like what you see? Visit the ' +\n",
              "          '<a target=\"_blank\" href=https://colab.research.google.com/notebooks/data_table.ipynb>data table notebook</a>'\n",
              "          + ' to learn more about interactive tables.';\n",
              "        element.innerHTML = '';\n",
              "        dataTable['output_type'] = 'display_data';\n",
              "        await google.colab.output.renderOutput(dataTable, element);\n",
              "        const docLink = document.createElement('div');\n",
              "        docLink.innerHTML = docLinkHtml;\n",
              "        element.appendChild(docLink);\n",
              "      }\n",
              "    </script>\n",
              "  </div>\n",
              "\n",
              "\n",
              "    <div id=\"df-e89a6de5-4f9d-4e2e-81c8-99b93fc2e6fd\">\n",
              "      <button class=\"colab-df-quickchart\" onclick=\"quickchart('df-e89a6de5-4f9d-4e2e-81c8-99b93fc2e6fd')\"\n",
              "                title=\"Suggest charts\"\n",
              "                style=\"display:none;\">\n",
              "\n",
              "<svg xmlns=\"http://www.w3.org/2000/svg\" height=\"24px\"viewBox=\"0 0 24 24\"\n",
              "     width=\"24px\">\n",
              "    <g>\n",
              "        <path d=\"M19 3H5c-1.1 0-2 .9-2 2v14c0 1.1.9 2 2 2h14c1.1 0 2-.9 2-2V5c0-1.1-.9-2-2-2zM9 17H7v-7h2v7zm4 0h-2V7h2v10zm4 0h-2v-4h2v4z\"/>\n",
              "    </g>\n",
              "</svg>\n",
              "      </button>\n",
              "\n",
              "<style>\n",
              "  .colab-df-quickchart {\n",
              "      --bg-color: #E8F0FE;\n",
              "      --fill-color: #1967D2;\n",
              "      --hover-bg-color: #E2EBFA;\n",
              "      --hover-fill-color: #174EA6;\n",
              "      --disabled-fill-color: #AAA;\n",
              "      --disabled-bg-color: #DDD;\n",
              "  }\n",
              "\n",
              "  [theme=dark] .colab-df-quickchart {\n",
              "      --bg-color: #3B4455;\n",
              "      --fill-color: #D2E3FC;\n",
              "      --hover-bg-color: #434B5C;\n",
              "      --hover-fill-color: #FFFFFF;\n",
              "      --disabled-bg-color: #3B4455;\n",
              "      --disabled-fill-color: #666;\n",
              "  }\n",
              "\n",
              "  .colab-df-quickchart {\n",
              "    background-color: var(--bg-color);\n",
              "    border: none;\n",
              "    border-radius: 50%;\n",
              "    cursor: pointer;\n",
              "    display: none;\n",
              "    fill: var(--fill-color);\n",
              "    height: 32px;\n",
              "    padding: 0;\n",
              "    width: 32px;\n",
              "  }\n",
              "\n",
              "  .colab-df-quickchart:hover {\n",
              "    background-color: var(--hover-bg-color);\n",
              "    box-shadow: 0 1px 2px rgba(60, 64, 67, 0.3), 0 1px 3px 1px rgba(60, 64, 67, 0.15);\n",
              "    fill: var(--button-hover-fill-color);\n",
              "  }\n",
              "\n",
              "  .colab-df-quickchart-complete:disabled,\n",
              "  .colab-df-quickchart-complete:disabled:hover {\n",
              "    background-color: var(--disabled-bg-color);\n",
              "    fill: var(--disabled-fill-color);\n",
              "    box-shadow: none;\n",
              "  }\n",
              "\n",
              "  .colab-df-spinner {\n",
              "    border: 2px solid var(--fill-color);\n",
              "    border-color: transparent;\n",
              "    border-bottom-color: var(--fill-color);\n",
              "    animation:\n",
              "      spin 1s steps(1) infinite;\n",
              "  }\n",
              "\n",
              "  @keyframes spin {\n",
              "    0% {\n",
              "      border-color: transparent;\n",
              "      border-bottom-color: var(--fill-color);\n",
              "      border-left-color: var(--fill-color);\n",
              "    }\n",
              "    20% {\n",
              "      border-color: transparent;\n",
              "      border-left-color: var(--fill-color);\n",
              "      border-top-color: var(--fill-color);\n",
              "    }\n",
              "    30% {\n",
              "      border-color: transparent;\n",
              "      border-left-color: var(--fill-color);\n",
              "      border-top-color: var(--fill-color);\n",
              "      border-right-color: var(--fill-color);\n",
              "    }\n",
              "    40% {\n",
              "      border-color: transparent;\n",
              "      border-right-color: var(--fill-color);\n",
              "      border-top-color: var(--fill-color);\n",
              "    }\n",
              "    60% {\n",
              "      border-color: transparent;\n",
              "      border-right-color: var(--fill-color);\n",
              "    }\n",
              "    80% {\n",
              "      border-color: transparent;\n",
              "      border-right-color: var(--fill-color);\n",
              "      border-bottom-color: var(--fill-color);\n",
              "    }\n",
              "    90% {\n",
              "      border-color: transparent;\n",
              "      border-bottom-color: var(--fill-color);\n",
              "    }\n",
              "  }\n",
              "</style>\n",
              "\n",
              "      <script>\n",
              "        async function quickchart(key) {\n",
              "          const quickchartButtonEl =\n",
              "            document.querySelector('#' + key + ' button');\n",
              "          quickchartButtonEl.disabled = true;  // To prevent multiple clicks.\n",
              "          quickchartButtonEl.classList.add('colab-df-spinner');\n",
              "          try {\n",
              "            const charts = await google.colab.kernel.invokeFunction(\n",
              "                'suggestCharts', [key], {});\n",
              "          } catch (error) {\n",
              "            console.error('Error during call to suggestCharts:', error);\n",
              "          }\n",
              "          quickchartButtonEl.classList.remove('colab-df-spinner');\n",
              "          quickchartButtonEl.classList.add('colab-df-quickchart-complete');\n",
              "        }\n",
              "        (() => {\n",
              "          let quickchartButtonEl =\n",
              "            document.querySelector('#df-e89a6de5-4f9d-4e2e-81c8-99b93fc2e6fd button');\n",
              "          quickchartButtonEl.style.display =\n",
              "            google.colab.kernel.accessAllowed ? 'block' : 'none';\n",
              "        })();\n",
              "      </script>\n",
              "    </div>\n",
              "\n",
              "    </div>\n",
              "  </div>\n"
            ],
            "application/vnd.google.colaboratory.intrinsic+json": {
              "type": "dataframe",
              "variable_name": "df"
            }
          },
          "metadata": {},
          "execution_count": 34
        }
      ]
    },
    {
      "cell_type": "code",
      "source": [
        "df.shape # Expecting around 1007 records and 49 columns"
      ],
      "metadata": {
        "colab": {
          "base_uri": "https://localhost:8080/"
        },
        "id": "zHNwBeuXSQbI",
        "outputId": "8578ca1d-4611-4b8f-ea48-c1f6ccfebeb1"
      },
      "execution_count": 35,
      "outputs": [
        {
          "output_type": "execute_result",
          "data": {
            "text/plain": [
              "(1010, 65)"
            ]
          },
          "metadata": {},
          "execution_count": 35
        }
      ]
    },
    {
      "cell_type": "code",
      "source": [
        "# View Available Columns\n",
        "# This gives us a view of all part-level, supplier-level, and shipment-level features available for engineering.\n",
        "df.columns # Check all feature names and understand available variables"
      ],
      "metadata": {
        "colab": {
          "base_uri": "https://localhost:8080/"
        },
        "id": "AAjAGsTMSXw4",
        "outputId": "b0969cd5-ebf0-4be2-e01d-53b70ad87d55"
      },
      "execution_count": 36,
      "outputs": [
        {
          "output_type": "execute_result",
          "data": {
            "text/plain": [
              "Index(['Car_ID', 'Scheduled_Assembly_Date', 'Engine_Delivery_Date',\n",
              "       'Engine_Supplier_Region', 'Engine_Supplier_Reliability',\n",
              "       'Engine_Transport_Mode', 'Is_Critical_Engine',\n",
              "       'Transmission_Delivery_Date', 'Transmission_Supplier_Region',\n",
              "       'Transmission_Supplier_Reliability', 'Transmission_Transport_Mode',\n",
              "       'Is_Critical_Transmission', 'Brake_System_Delivery_Date',\n",
              "       'Brake_System_Supplier_Region', 'Brake_System_Supplier_Reliability',\n",
              "       'Brake_System_Transport_Mode', 'Is_Critical_Brake_System',\n",
              "       'Suspension_Delivery_Date', 'Suspension_Supplier_Region',\n",
              "       'Suspension_Supplier_Reliability', 'Suspension_Transport_Mode',\n",
              "       'Is_Critical_Suspension', 'Infotainment_Delivery_Date',\n",
              "       'Infotainment_Supplier_Region', 'Infotainment_Supplier_Reliability',\n",
              "       'Infotainment_Transport_Mode', 'Is_Critical_Infotainment',\n",
              "       'Car_Delayed', 'Delay_Days', 'Financial_Impact_USD',\n",
              "       'Engine_Delayed_Flag', 'Transmission_Delayed_Flag',\n",
              "       'Brake_System_Delayed_Flag', 'Suspension_Delayed_Flag',\n",
              "       'Infotainment_Delayed_Flag', 'Any_Critical_Part_Delayed',\n",
              "       'Engine_Delay_Reason', 'Transmission_Delay_Reason',\n",
              "       'Brake_System_Delay_Reason', 'Suspension_Delay_Reason',\n",
              "       'Infotainment_Delay_Reason', 'Order_Urgency', 'Holiday_Proximity',\n",
              "       'Inventory_Buffer_Used', 'Weather_Condition_On_Delivery',\n",
              "       'Strike_Notice', 'Production_Shift', 'Valid_Delay',\n",
              "       'Total_Parts_Delayed', 'Route_Type', 'Distance_KM', 'Traffic_Level',\n",
              "       'Supplier_Performance_Score', 'Contract_Penalty_Per_Day',\n",
              "       'Engine_Supplier_Group', 'Transmission_Supplier_Group',\n",
              "       'Brake_System_Supplier_Group', 'Suspension_Supplier_Group',\n",
              "       'Infotainment_Supplier_Group', 'Engine_Reliability_Score',\n",
              "       'Transmission_Reliability_Score', 'Brake_System_Reliability_Score',\n",
              "       'Suspension_Reliability_Score', 'Infotainment_Reliability_Score',\n",
              "       'Traffic_Severity_Index'],\n",
              "      dtype='object')"
            ]
          },
          "metadata": {},
          "execution_count": 36
        }
      ]
    },
    {
      "cell_type": "code",
      "source": [
        "# Step 3: Convert Assembly Date to Datetime and Extract Temporal Features\n",
        "df[\"Scheduled_Assembly_Date\"]= pd.to_datetime(df[\"Scheduled_Assembly_Date\"])"
      ],
      "metadata": {
        "id": "8BcnDr_5SeI7"
      },
      "execution_count": 37,
      "outputs": []
    },
    {
      "cell_type": "code",
      "source": [
        "# Extracting month and quarter of scheduled shipment for seasonal patterns\n",
        "df['Month_Scheduled'] = df['Scheduled_Assembly_Date'].dt.month\n",
        "df['Quarter_Scheduled'] = df['Scheduled_Assembly_Date'].dt.quarter"
      ],
      "metadata": {
        "id": "vOb3oAYLSjn-"
      },
      "execution_count": 38,
      "outputs": []
    },
    {
      "cell_type": "markdown",
      "source": [
        "The exact Scheduled Assembly Date provides highly granular information that can be noisy and less effective for modeling temporal patterns. To capture meaningful seasonality and trends in shipment delays, we extract:\n",
        "\n",
        "- Month of Scheduled Shipment (Month_Scheduled)\n",
        "\n",
        "- Quarter of Scheduled Shipment (Quarter_Scheduled)\n",
        "\n",
        "These aggregated time features enable the detection of seasonal fluctuations and cyclical patterns impacting supply chain performance, such as:\n",
        "\n",
        "- Increased delays during peak production quarters\n",
        "\n",
        "- Variations due to holidays, weather conditions, or supplier capacity cycles\n",
        "\n",
        "Incorporating these temporal features improves the model’s ability to generalize over time and anticipate periods with elevated delay risk."
      ],
      "metadata": {
        "id": "wRHu_lClStCW"
      }
    },
    {
      "cell_type": "code",
      "source": [
        "# Step 4: Convert Parts Delivery Dates to Datetime Format\n",
        "parts_delivery_cols=[\"Engine_Delivery_Date\", \"Transmission_Delivery_Date\", \"Brake_System_Delivery_Date\", \"Suspension_Delivery_Date\", \"Infotainment_Delivery_Date\"]\n",
        "for col in parts_delivery_cols:\n",
        "  df[col]=pd.to_datetime(df[col])\n",
        "# Step 5: Generate Delayed Flags for Each Part Based on 2-Day Cutoff Rule\n",
        "parts_flag_cols=['Engine_Delayed_Flag', 'Transmission_Delayed_Flag','Brake_System_Delayed_Flag', 'Suspension_Delayed_Flag', 'Infotainment_Delayed_Flag']\n",
        "# If part arrives after the cutoff (2 days before assembly), it's delayed\n",
        "prediction_cutoff_date = df[\"Scheduled_Assembly_Date\"] - pd.Timedelta(days=2)\n",
        "for delivery_col, flag_col in zip(parts_delivery_cols, parts_flag_cols,):\n",
        "  df[flag_col]= ((df[delivery_col].notna()) & (df[delivery_col]>prediction_cutoff_date)).astype(int)"
      ],
      "metadata": {
        "id": "N2JsX_PJUiHy"
      },
      "execution_count": 39,
      "outputs": []
    },
    {
      "cell_type": "markdown",
      "source": [
        "In the automotive supply chain, each vehicle assembly requires critical parts to arrive at least 2 days in advance of the scheduled assembly date. This 2-day buffer accounts for:\n",
        "\n",
        "- Quality checks, paperwork, and pre-assembly processing of parts\n",
        "\n",
        "Internal logistics like sorting, staging, and line preparation\n",
        "\n",
        "To operationalize this:\n",
        "\n",
        "- We converted all parts delivery dates into a uniform datetime format to enable accurate comparisons.\n",
        "\n",
        "- We created delay flags for each part type, checking whether a part arrived later than 2 days before the scheduled car assembly date.\n",
        "\n",
        "- If a part missed this 2-day window, it was marked as delayed (flag = 1).\n",
        "\n",
        "- If it arrived on time, it was marked as not delayed (flag = 0).\n",
        "\n",
        "This approach ensures our models predict shipment delays based on real-world logistics timelines and business constraints."
      ],
      "metadata": {
        "id": "kRrs1rpkUrwx"
      }
    },
    {
      "cell_type": "code",
      "source": [
        "# Step 6: Create Total Parts Delayed Feature\n",
        "df[\"Total_Parts_Delayed\"]=df[['Engine_Delayed_Flag', 'Transmission_Delayed_Flag','Brake_System_Delayed_Flag', 'Suspension_Delayed_Flag', 'Infotainment_Delayed_Flag']].sum(axis=1)"
      ],
      "metadata": {
        "id": "VxwdEt3ta_Yo"
      },
      "execution_count": 40,
      "outputs": []
    },
    {
      "cell_type": "markdown",
      "source": [
        "To quantify the overall impact of parts delays on car shipment, we calculate the Total Parts Delayed by summing the individual delay flags across all critical parts:\n",
        "- Engine\n",
        "- Transmission\n",
        "- Brake System\n",
        "- Suspension\n",
        "- Infotainment\n",
        "\n",
        "This aggregated metric provides a clear indicator of how many parts experienced delivery delays per vehicle, helping identify shipments at higher risk due to multiple delayed components. It supports prioritizing interventions on orders with greater cumulative delays."
      ],
      "metadata": {
        "id": "fikw1C1KbNh7"
      }
    },
    {
      "cell_type": "code",
      "source": [
        "# Step 7: Create Flags for Critical Part Delays\n",
        "# This checks if any delayed part was critical to the car\n",
        "df[\"Any_Critical_Part_Delayed\"]=((df[\"Engine_Delayed_Flag\"]& df[\"Is_Critical_Engine\"])|\n",
        "(df[\"Transmission_Delayed_Flag\"]& df[\"Is_Critical_Transmission\"])|\n",
        "(df[\"Brake_System_Delayed_Flag\"]& df[\"Is_Critical_Brake_System\"])|\n",
        "(df[\"Suspension_Delayed_Flag\"] & df[\"Is_Critical_Suspension\"])|\n",
        "(df[\"Infotainment_Delayed_Flag\"] & df[\"Is_Critical_Infotainment\"]))"
      ],
      "metadata": {
        "id": "cOHsT7XtbOzi"
      },
      "execution_count": 41,
      "outputs": []
    },
    {
      "cell_type": "markdown",
      "source": [
        "This feature identifies whether any delayed part is critical to the vehicle’s assembly process.\n",
        "\n",
        "By combining the delay status of each part with its criticality indicator, we flag shipments where at least one essential component was delayed.\n",
        "\n",
        "This binary flag helps prioritize delays that are more likely to cause major production disruptions, as critical parts have a direct impact on the car’s completion and shipment schedule"
      ],
      "metadata": {
        "id": "_QMN76KTbrpa"
      }
    },
    {
      "cell_type": "code",
      "source": [
        "# Step 8: Count of Critical Parts Delayed\n",
        "df['Sum_Critical_Parts_Delayed'] = (\n",
        "    (df[\"Engine_Delayed_Flag\"] & df[\"Is_Critical_Engine\"]) +\n",
        "    (df[\"Transmission_Delayed_Flag\"] & df[\"Is_Critical_Transmission\"]) +\n",
        "    (df[\"Brake_System_Delayed_Flag\"] & df[\"Is_Critical_Brake_System\"]) +\n",
        "    (df[\"Suspension_Delayed_Flag\"] & df[\"Is_Critical_Suspension\"]) +\n",
        "    (df[\"Infotainment_Delayed_Flag\"] & df[\"Is_Critical_Infotainment\"])\n",
        ")"
      ],
      "metadata": {
        "id": "Q3-_gFDRbs_M"
      },
      "execution_count": 42,
      "outputs": []
    },
    {
      "cell_type": "markdown",
      "source": [
        "This feature calculates the total number of critical parts that experienced delivery delays for each car shipment.\n",
        "\n",
        "By summing the flags where a part is both delayed and marked as critical, it provides a numeric measure of how many essential components were late.\n",
        "\n",
        "This count enables a more granular assessment of delay severity and supports prioritization of shipments with multiple critical part delays, which typically have higher risk of overall shipment delay."
      ],
      "metadata": {
        "id": "E95le6kKb4mG"
      }
    },
    {
      "cell_type": "code",
      "source": [
        "df[\"Total_Critical_Parts\"] = df[[\n",
        "    \"Is_Critical_Engine\", \"Is_Critical_Transmission\",\n",
        "    \"Is_Critical_Brake_System\", \"Is_Critical_Suspension\",\n",
        "    \"Is_Critical_Infotainment\"\n",
        "]].sum(axis=1)\n"
      ],
      "metadata": {
        "id": "kdiM7381b6Ei"
      },
      "execution_count": 43,
      "outputs": []
    },
    {
      "cell_type": "code",
      "source": [
        "df[\"Non_Critical_Parts_Delayed_Count\"] = df[\"Total_Parts_Delayed\"] - df[\"Sum_Critical_Parts_Delayed\"]"
      ],
      "metadata": {
        "id": "9V83X2oKd_CN"
      },
      "execution_count": 44,
      "outputs": []
    },
    {
      "cell_type": "markdown",
      "source": [
        "# Step 9: Engineering Ratio-Based Features\n"
      ],
      "metadata": {
        "id": "Mhy_ht-jGc9T"
      }
    },
    {
      "cell_type": "code",
      "source": [
        "df[\"Critical_Parts_Ratio\"] = df[\"Sum_Critical_Parts_Delayed\"] / df[\"Total_Critical_Parts\"]\n",
        "df[\"Critical_Parts_Ratio\"] = df[\"Critical_Parts_Ratio\"].fillna(0)"
      ],
      "metadata": {
        "id": "5wwP5ItveFr4"
      },
      "execution_count": 45,
      "outputs": []
    },
    {
      "cell_type": "code",
      "source": [
        "# Example mapping for ordinal urgency levels\n",
        "urgency_mapping = {\n",
        "    'Low': 1,\n",
        "    'Medium': 2,\n",
        "    'High': 3\n",
        "}\n",
        "\n",
        "df['Order_Urgency_Num'] = df['Order_Urgency'].map(urgency_mapping)\n",
        "\n",
        "# Now you can use 'Order_Urgency_Num' for calculations, e.g.:\n",
        "df['Delay_Per_Urgency'] = df['Total_Parts_Delayed'] / df['Order_Urgency_Num'].replace(0, np.nan)\n"
      ],
      "metadata": {
        "id": "sPjE5r6gVDiu"
      },
      "execution_count": 46,
      "outputs": []
    },
    {
      "cell_type": "code",
      "source": [
        "df['Non_Critical_Parts_Delayed_Ratio'] = df['Non_Critical_Parts_Delayed_Count'] / (5 - df['Total_Critical_Parts']).replace(0, np.nan)\n",
        "df['Non_Critical_Parts_Delayed_Ratio'] = df['Non_Critical_Parts_Delayed_Ratio'].fillna(0)"
      ],
      "metadata": {
        "id": "4cGeCubwSQ2B"
      },
      "execution_count": 47,
      "outputs": []
    },
    {
      "cell_type": "code",
      "source": [
        "df[\"Total_Delayed_Ratio\"] = df[\"Total_Parts_Delayed\"] / 5\n",
        "#(max 5 parts)"
      ],
      "metadata": {
        "id": "hqeTWmvNeXfF"
      },
      "execution_count": 48,
      "outputs": []
    },
    {
      "cell_type": "code",
      "source": [
        "df['Reliability_Gap_Engine_Trans'] = df['Engine_Reliability_Score'] - df['Transmission_Reliability_Score']\n",
        "df['Reliability_Gap_Brake_Susp'] = df['Brake_System_Reliability_Score'] - df['Suspension_Reliability_Score']"
      ],
      "metadata": {
        "id": "nwPfk_nmSL5M"
      },
      "execution_count": 49,
      "outputs": []
    },
    {
      "cell_type": "markdown",
      "source": [
        "# Step 10: Binary Summary Flags"
      ],
      "metadata": {
        "id": "nDNh2bLgGrue"
      }
    },
    {
      "cell_type": "code",
      "source": [
        "df['Eng_Reliability_x_Delay'] = df['Engine_Reliability_Score'] * df['Engine_Delayed_Flag']\n",
        "df['Trans_Reliability_x_Delay'] = df['Transmission_Reliability_Score'] * df['Transmission_Delayed_Flag']\n",
        "df['Brake_Reliability_x_Delay'] = df['Brake_System_Reliability_Score'] * df['Brake_System_Delayed_Flag']\n",
        "df['Susp_Reliability_x_Delay'] = df['Suspension_Reliability_Score'] * df['Suspension_Delayed_Flag']\n",
        "df['Info_Reliability_x_Delay'] = df['Infotainment_Reliability_Score'] * df['Infotainment_Delayed_Flag']\n",
        "\n",
        "df['Critical_Engine_x_Delay'] = df['Is_Critical_Engine'] * df['Engine_Delayed_Flag']\n",
        "df['Critical_Trans_x_Delay'] = df['Is_Critical_Transmission'] * df['Transmission_Delayed_Flag']\n",
        "df['Critical_Brake_x_Delay'] = df['Is_Critical_Brake_System'] * df['Brake_System_Delayed_Flag']\n",
        "df['Critical_Susp_x_Delay'] = df['Is_Critical_Suspension'] * df['Suspension_Delayed_Flag']\n",
        "df['Critical_Info_x_Delay'] = df['Is_Critical_Infotainment'] * df['Infotainment_Delayed_Flag']\n",
        "\n",
        "\n",
        "df['Urgency_x_TotalDelayed'] = df['Order_Urgency'] * df['Total_Parts_Delayed']\n",
        "df['Holiday_x_CriticalDelay'] = df['Holiday_Proximity'] * df['Any_Critical_Part_Delayed']\n",
        "df['Strike_x_TotalDelayed'] = df['Strike_Notice'] * df['Total_Parts_Delayed']\n",
        "df['Weather_x_TotalDelayed'] = df['Weather_Condition_On_Delivery'] * df['Total_Parts_Delayed']\n"
      ],
      "metadata": {
        "id": "res5fb5ASUlq"
      },
      "execution_count": 50,
      "outputs": []
    },
    {
      "cell_type": "code",
      "source": [
        "df['Is_Any_Part_Delayed'] = (df['Total_Parts_Delayed'] > 0).astype(int)"
      ],
      "metadata": {
        "id": "kDHEMAHYeikP"
      },
      "execution_count": 51,
      "outputs": []
    },
    {
      "cell_type": "code",
      "source": [
        "df['All_Parts_On_Time'] = (df['Total_Parts_Delayed'] == 0).astype(int)"
      ],
      "metadata": {
        "id": "BRRhA6k6fOAX"
      },
      "execution_count": 52,
      "outputs": []
    },
    {
      "cell_type": "code",
      "source": [
        "df['All_Critical_Parts_On_Time'] = (df['Sum_Critical_Parts_Delayed'] == 0).astype(int)"
      ],
      "metadata": {
        "id": "EX9LTZVkfRKJ"
      },
      "execution_count": 53,
      "outputs": []
    },
    {
      "cell_type": "code",
      "source": [
        "df.columns"
      ],
      "metadata": {
        "colab": {
          "base_uri": "https://localhost:8080/"
        },
        "id": "pkGJR8QzcEkR",
        "outputId": "a2f2c25b-0776-4da3-804a-10125d8769c4"
      },
      "execution_count": 54,
      "outputs": [
        {
          "output_type": "execute_result",
          "data": {
            "text/plain": [
              "Index(['Car_ID', 'Scheduled_Assembly_Date', 'Engine_Delivery_Date',\n",
              "       'Engine_Supplier_Region', 'Engine_Supplier_Reliability',\n",
              "       'Engine_Transport_Mode', 'Is_Critical_Engine',\n",
              "       'Transmission_Delivery_Date', 'Transmission_Supplier_Region',\n",
              "       'Transmission_Supplier_Reliability', 'Transmission_Transport_Mode',\n",
              "       'Is_Critical_Transmission', 'Brake_System_Delivery_Date',\n",
              "       'Brake_System_Supplier_Region', 'Brake_System_Supplier_Reliability',\n",
              "       'Brake_System_Transport_Mode', 'Is_Critical_Brake_System',\n",
              "       'Suspension_Delivery_Date', 'Suspension_Supplier_Region',\n",
              "       'Suspension_Supplier_Reliability', 'Suspension_Transport_Mode',\n",
              "       'Is_Critical_Suspension', 'Infotainment_Delivery_Date',\n",
              "       'Infotainment_Supplier_Region', 'Infotainment_Supplier_Reliability',\n",
              "       'Infotainment_Transport_Mode', 'Is_Critical_Infotainment',\n",
              "       'Car_Delayed', 'Delay_Days', 'Financial_Impact_USD',\n",
              "       'Engine_Delayed_Flag', 'Transmission_Delayed_Flag',\n",
              "       'Brake_System_Delayed_Flag', 'Suspension_Delayed_Flag',\n",
              "       'Infotainment_Delayed_Flag', 'Any_Critical_Part_Delayed',\n",
              "       'Engine_Delay_Reason', 'Transmission_Delay_Reason',\n",
              "       'Brake_System_Delay_Reason', 'Suspension_Delay_Reason',\n",
              "       'Infotainment_Delay_Reason', 'Order_Urgency', 'Holiday_Proximity',\n",
              "       'Inventory_Buffer_Used', 'Weather_Condition_On_Delivery',\n",
              "       'Strike_Notice', 'Production_Shift', 'Valid_Delay',\n",
              "       'Total_Parts_Delayed', 'Route_Type', 'Distance_KM', 'Traffic_Level',\n",
              "       'Supplier_Performance_Score', 'Contract_Penalty_Per_Day',\n",
              "       'Engine_Supplier_Group', 'Transmission_Supplier_Group',\n",
              "       'Brake_System_Supplier_Group', 'Suspension_Supplier_Group',\n",
              "       'Infotainment_Supplier_Group', 'Engine_Reliability_Score',\n",
              "       'Transmission_Reliability_Score', 'Brake_System_Reliability_Score',\n",
              "       'Suspension_Reliability_Score', 'Infotainment_Reliability_Score',\n",
              "       'Traffic_Severity_Index', 'Month_Scheduled', 'Quarter_Scheduled',\n",
              "       'Sum_Critical_Parts_Delayed', 'Total_Critical_Parts',\n",
              "       'Non_Critical_Parts_Delayed_Count', 'Critical_Parts_Ratio',\n",
              "       'Order_Urgency_Num', 'Delay_Per_Urgency',\n",
              "       'Non_Critical_Parts_Delayed_Ratio', 'Total_Delayed_Ratio',\n",
              "       'Reliability_Gap_Engine_Trans', 'Reliability_Gap_Brake_Susp',\n",
              "       'Eng_Reliability_x_Delay', 'Trans_Reliability_x_Delay',\n",
              "       'Brake_Reliability_x_Delay', 'Susp_Reliability_x_Delay',\n",
              "       'Info_Reliability_x_Delay', 'Critical_Engine_x_Delay',\n",
              "       'Critical_Trans_x_Delay', 'Critical_Brake_x_Delay',\n",
              "       'Critical_Susp_x_Delay', 'Critical_Info_x_Delay',\n",
              "       'Urgency_x_TotalDelayed', 'Holiday_x_CriticalDelay',\n",
              "       'Strike_x_TotalDelayed', 'Weather_x_TotalDelayed',\n",
              "       'Is_Any_Part_Delayed', 'All_Parts_On_Time',\n",
              "       'All_Critical_Parts_On_Time'],\n",
              "      dtype='object')"
            ]
          },
          "metadata": {},
          "execution_count": 54
        }
      ]
    },
    {
      "cell_type": "markdown",
      "source": [
        "# Step 11: Drop Leakage or Unnecessary Columns\n"
      ],
      "metadata": {
        "id": "Uk80n9fDGzRs"
      }
    },
    {
      "cell_type": "code",
      "source": [
        "# Drop Irrelevant or Leakage-Prone Columns\n",
        "columns_to_drop = [\n",
        "    'Car_ID',  # only needed for reference\n",
        "    'Scheduled_Assembly_Date',\n",
        "    'Engine_Delivery_Date', 'Transmission_Delivery_Date',\n",
        "    'Brake_System_Delivery_Date', 'Suspension_Delivery_Date',\n",
        "    'Infotainment_Delivery_Date',\n",
        "    'Engine_Delay_Reason', 'Transmission_Delay_Reason',\n",
        "    'Brake_System_Delay_Reason', 'Suspension_Delay_Reason',\n",
        "    'Infotainment_Delay_Reason',\n",
        "    'Inventory_Buffer_Used', #Not useful for prediction\n",
        "    'Delay_Days', 'Valid_Delay', 'Car_Delayed' # Leakage into label\n",
        "    ]\n",
        "df = df.drop(columns=columns_to_drop)"
      ],
      "metadata": {
        "id": "sPvzTsi8cFmB"
      },
      "execution_count": 55,
      "outputs": []
    },
    {
      "cell_type": "markdown",
      "source": [
        "# Step 12: Final Feature Set Preview"
      ],
      "metadata": {
        "id": "E0DqxAaqHMXN"
      }
    },
    {
      "cell_type": "code",
      "source": [
        "df.columns"
      ],
      "metadata": {
        "colab": {
          "base_uri": "https://localhost:8080/"
        },
        "id": "X00-Z3WBkqXo",
        "outputId": "f88aa190-3349-4df6-f8d9-b49b528c026b"
      },
      "execution_count": 56,
      "outputs": [
        {
          "output_type": "execute_result",
          "data": {
            "text/plain": [
              "Index(['Engine_Supplier_Region', 'Engine_Supplier_Reliability',\n",
              "       'Engine_Transport_Mode', 'Is_Critical_Engine',\n",
              "       'Transmission_Supplier_Region', 'Transmission_Supplier_Reliability',\n",
              "       'Transmission_Transport_Mode', 'Is_Critical_Transmission',\n",
              "       'Brake_System_Supplier_Region', 'Brake_System_Supplier_Reliability',\n",
              "       'Brake_System_Transport_Mode', 'Is_Critical_Brake_System',\n",
              "       'Suspension_Supplier_Region', 'Suspension_Supplier_Reliability',\n",
              "       'Suspension_Transport_Mode', 'Is_Critical_Suspension',\n",
              "       'Infotainment_Supplier_Region', 'Infotainment_Supplier_Reliability',\n",
              "       'Infotainment_Transport_Mode', 'Is_Critical_Infotainment',\n",
              "       'Financial_Impact_USD', 'Engine_Delayed_Flag',\n",
              "       'Transmission_Delayed_Flag', 'Brake_System_Delayed_Flag',\n",
              "       'Suspension_Delayed_Flag', 'Infotainment_Delayed_Flag',\n",
              "       'Any_Critical_Part_Delayed', 'Order_Urgency', 'Holiday_Proximity',\n",
              "       'Weather_Condition_On_Delivery', 'Strike_Notice', 'Production_Shift',\n",
              "       'Total_Parts_Delayed', 'Route_Type', 'Distance_KM', 'Traffic_Level',\n",
              "       'Supplier_Performance_Score', 'Contract_Penalty_Per_Day',\n",
              "       'Engine_Supplier_Group', 'Transmission_Supplier_Group',\n",
              "       'Brake_System_Supplier_Group', 'Suspension_Supplier_Group',\n",
              "       'Infotainment_Supplier_Group', 'Engine_Reliability_Score',\n",
              "       'Transmission_Reliability_Score', 'Brake_System_Reliability_Score',\n",
              "       'Suspension_Reliability_Score', 'Infotainment_Reliability_Score',\n",
              "       'Traffic_Severity_Index', 'Month_Scheduled', 'Quarter_Scheduled',\n",
              "       'Sum_Critical_Parts_Delayed', 'Total_Critical_Parts',\n",
              "       'Non_Critical_Parts_Delayed_Count', 'Critical_Parts_Ratio',\n",
              "       'Order_Urgency_Num', 'Delay_Per_Urgency',\n",
              "       'Non_Critical_Parts_Delayed_Ratio', 'Total_Delayed_Ratio',\n",
              "       'Reliability_Gap_Engine_Trans', 'Reliability_Gap_Brake_Susp',\n",
              "       'Eng_Reliability_x_Delay', 'Trans_Reliability_x_Delay',\n",
              "       'Brake_Reliability_x_Delay', 'Susp_Reliability_x_Delay',\n",
              "       'Info_Reliability_x_Delay', 'Critical_Engine_x_Delay',\n",
              "       'Critical_Trans_x_Delay', 'Critical_Brake_x_Delay',\n",
              "       'Critical_Susp_x_Delay', 'Critical_Info_x_Delay',\n",
              "       'Urgency_x_TotalDelayed', 'Holiday_x_CriticalDelay',\n",
              "       'Strike_x_TotalDelayed', 'Weather_x_TotalDelayed',\n",
              "       'Is_Any_Part_Delayed', 'All_Parts_On_Time',\n",
              "       'All_Critical_Parts_On_Time'],\n",
              "      dtype='object')"
            ]
          },
          "metadata": {},
          "execution_count": 56
        }
      ]
    },
    {
      "cell_type": "code",
      "source": [
        "# Visualize Financial Impact distribution\n",
        "plt.figure(figsize=(8,4))\n",
        "sns.histplot(df['Financial_Impact_USD'], bins=50, kde=True)\n",
        "plt.title('Financial Impact Distribution')\n",
        "plt.show()\n",
        "\n",
        "# Summary stats for outliers check\n",
        "print(df['Financial_Impact_USD'].describe())\n",
        "\n",
        "# strongly right-skewed, apply log transform (add 1 to avoid log(0))\n",
        "df['Financial_Impact_Log'] = np.log1p(df['Financial_Impact_USD'])\n",
        "\n",
        "# Visualize transformed target\n",
        "plt.figure(figsize=(8,4))\n",
        "sns.histplot(df['Financial_Impact_Log'], bins=50, kde=True, color='green')\n",
        "plt.title('Log-Transformed Financial Impact Distribution')\n",
        "plt.show()\n"
      ],
      "metadata": {
        "colab": {
          "base_uri": "https://localhost:8080/",
          "height": 959
        },
        "id": "m9FJ9FvT_SwN",
        "outputId": "ca7b8917-2c2f-4608-9cb7-20ace80e42ff"
      },
      "execution_count": 57,
      "outputs": [
        {
          "output_type": "display_data",
          "data": {
            "text/plain": [
              "<Figure size 800x400 with 1 Axes>"
            ],
            "image/png": "[encoded data removed]"
          },
          "metadata": {}
        },
        {
          "output_type": "stream",
          "name": "stdout",
          "text": [
            "count    1010.000000\n",
            "mean     1236.138614\n",
            "std      1281.657956\n",
            "min         0.000000\n",
            "25%         0.000000\n",
            "50%      1000.000000\n",
            "75%      2000.000000\n",
            "max      4000.000000\n",
            "Name: Financial_Impact_USD, dtype: float64\n"
          ]
        },
        {
          "output_type": "display_data",
          "data": {
            "text/plain": [
              "<Figure size 800x400 with 1 Axes>"
            ],
            "image/png": "[encoded data removed]"
          },
          "metadata": {}
        }
      ]
    },
    {
      "cell_type": "markdown",
      "source": [
        "- Financial Impact USD shows a right-skewed distribution with many shipments incurring low or zero impact and some experiencing high penalties.\n",
        "\n",
        "To improve modeling stability, a log transformation (log1p) was applied to the financial impact, reducing skewness and normalizing variance"
      ],
      "metadata": {
        "id": "L8OBx7M1BSQ9"
      }
    },
    {
      "cell_type": "markdown",
      "source": [
        "# Engineered Features Summary\n",
        "\n",
        "| Feature Name                   | Type      | Description / Engineering Logic                                                   | Purpose / Usefulness                                              |\n",
        "|-------------------------------|-----------|----------------------------------------------------------------------------------|------------------------------------------------------------------|\n",
        "| `Month_Scheduled`             | Numeric   | Extracted month from scheduled assembly date                                    | Capture seasonal shipment patterns                               |\n",
        "| `Quarter_Scheduled`           | Numeric   | Extracted quarter from scheduled assembly date                                  | Capture quarterly trends                                         |\n",
        "| `Engine_Delayed_Flag`         | Binary    | 1 if engine delivery date > (assembly date - 2 days), else 0                    | Flag delayed engine part                                         |\n",
        "| `Transmission_Delayed_Flag`   | Binary    | Same logic for transmission                                                      | Flag delayed transmission part                                  |\n",
        "| `Brake_System_Delayed_Flag`   | Binary    | Same for brake system                                                           | Flag delayed brake system part                                  |\n",
        "| `Suspension_Delayed_Flag`     | Binary    | Same for suspension                                                             | Flag delayed suspension part                                    |\n",
        "| `Infotainment_Delayed_Flag`   | Binary    | Same for infotainment                                                           | Flag delayed infotainment part                                  |\n",
        "| `Total_Parts_Delayed`         | Numeric   | Sum of all individual delayed part flags                                       | Overall delay severity indicator                                |\n",
        "| `Any_Critical_Part_Delayed`   | Binary    | 1 if any delayed part is critical, else 0                                      | Highlight critical delays that impact assembly                  |\n",
        "| `Sum_Critical_Parts_Delayed`  | Numeric   | Count of critical parts delayed                                                 | Measure critical delay magnitude                                |\n",
        "| `Total_Critical_Parts`        | Numeric   | Total number of critical parts                                                  | Baseline for ratios                                            |\n",
        "| `Non_Critical_Parts_Delayed_Count` | Numeric | Total delayed parts minus critical delayed parts                              | Delay count of non-critical parts                               |\n",
        "| `Critical_Parts_Ratio`        | Float     | Ratio of critical parts delayed to total critical parts                         | Normalized critical delay indicator                             |\n",
        "| `Order_Urgency_Num`           | Numeric   | Numeric mapping of urgency levels (Low=1, Medium=2, High=3)                     | Quantify urgency for model                                     |\n",
        "| `Delay_Per_Urgency`           | Float     | Total parts delayed divided by order urgency numeric                            | Interaction feature: delay severity adjusted by urgency       |\n",
        "| `Non_Critical_Parts_Delayed_Ratio` | Float | Non-critical delayed parts / total non-critical parts                           | Non-critical delay intensity                                    |\n",
        "| `Total_Delayed_Ratio`         | Float     | Total parts delayed divided by max parts (5)                                   | Proportion of parts delayed                                     |\n",
        "| `Reliability_Gap_Engine_Trans`| Float     | Difference between engine and transmission reliability scores                   | Supplier reliability differences                               |\n",
        "| `Reliability_Gap_Brake_Susp`  | Float     | Difference between brake system and suspension reliability                      | Supplier reliability differences                               |\n",
        "| `Eng_Reliability_x_Delay`     | Float     | Engine reliability score * engine delayed flag                                 | Interaction of reliability & delay                             |\n",
        "| `Trans_Reliability_x_Delay`   | Float     | Transmission reliability score * transmission delayed flag                     | Interaction of reliability & delay                             |\n",
        "| `Brake_Reliability_x_Delay`   | Float     | Brake system reliability score * brake delayed flag                            | Interaction of reliability & delay                             |\n",
        "| `Susp_Reliability_x_Delay`    | Float     | Suspension reliability score * suspension delayed flag                         | Interaction of reliability & delay                             |\n",
        "| `Info_Reliability_x_Delay`    | Float     | Infotainment reliability score * infotainment delayed flag                     | Interaction of reliability & delay                             |\n",
        "| `Critical_Engine_x_Delay`     | Binary    | Critical engine flag * engine delayed flag                                     | Interaction of criticality & delay                             |\n",
        "| `Critical_Trans_x_Delay`      | Binary    | Critical transmission flag * transmission delayed flag                         | Interaction of criticality & delay                             |\n",
        "| `Critical_Brake_x_Delay`      | Binary    | Critical brake flag * brake delayed flag                                       | Interaction of criticality & delay                             |\n",
        "| `Critical_Susp_x_Delay`       | Binary    | Critical suspension flag * suspension delayed flag                             | Interaction of criticality & delay                             |\n",
        "| `Critical_Info_x_Delay`       | Binary    | Critical infotainment flag * infotainment delayed flag                         | Interaction of criticality & delay                             |\n",
        "| `Urgency_x_TotalDelayed`      | Numeric   | Order urgency * total parts delayed                                            | Combined urgency & delay severity                              |\n",
        "| `Holiday_x_CriticalDelay`     | Numeric   | Holiday proximity flag * any critical part delayed                             | Impact of holidays on critical delays                         |\n",
        "| `Strike_x_TotalDelayed`       | Numeric   | Strike notice flag * total parts delayed                                      | Impact of strikes on delays                                   |\n",
        "| `Weather_x_TotalDelayed`      | Numeric   | Weather condition on delivery * total parts delayed                           | Weather impact on delays                                     |\n",
        "| `Is_Any_Part_Delayed`         | Binary    | 1 if any part delayed, else 0                                                  | General delay indicator                                        |\n",
        "| `All_Parts_On_Time`           | Binary    | 1 if no parts delayed, else 0                                                  | Opposite of delay indicator                                   |\n",
        "| `All_Critical_Parts_On_Time`  | Binary    | 1 if no critical parts delayed, else 0                                         | Critical parts delay indicator                                |\n"
      ],
      "metadata": {
        "id": "udJCIhjcBv9a"
      }
    },
    {
      "cell_type": "markdown",
      "source": [
        "# Step 13: Saving the dataset for modeling"
      ],
      "metadata": {
        "id": "rIiTTzjlHF_x"
      }
    },
    {
      "cell_type": "code",
      "source": [
        "df.to_csv(\"Financial_Impact_Regression_Final_Dataset.csv\", index=False)"
      ],
      "metadata": {
        "id": "OdAila1TkuzM"
      },
      "execution_count": 58,
      "outputs": []
    }
  ]
}